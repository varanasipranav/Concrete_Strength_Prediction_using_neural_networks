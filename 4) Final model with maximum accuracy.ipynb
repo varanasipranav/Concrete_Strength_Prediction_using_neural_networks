{
 "cells": [
  {
   "cell_type": "markdown",
   "id": "22a932df",
   "metadata": {},
   "source": [
    "# Importing datasets and necesarry Libraries"
   ]
  },
  {
   "cell_type": "markdown",
   "id": "feff1a41",
   "metadata": {},
   "source": [
    "Lets import pandas and Numpy Libraries"
   ]
  },
  {
   "cell_type": "code",
   "execution_count": 79,
   "id": "6a26a663",
   "metadata": {},
   "outputs": [],
   "source": [
    "import pandas as pd\n",
    "import numpy as np"
   ]
  },
  {
   "cell_type": "markdown",
   "id": "9e9e82cf",
   "metadata": {},
   "source": [
    "We will be using the dataset provided in the assignment\n",
    "\n",
    "The dataset is about the compressive strength of different samples of concrete based on the volumes of the different ingredients that were used to make them. Ingredients include:\n",
    "\n",
    "1. Cement\n",
    "\n",
    "2. Blast Furnace Slag\n",
    "\n",
    "3. Fly Ash\n",
    "\n",
    "4. Water\n",
    "\n",
    "5. Superplasticizer\n",
    "\n",
    "6. Coarse Aggregate\n",
    "\n",
    "7. Fine Aggregate\n",
    "\n",
    "Let's read the dataset into a pandas dataframe."
   ]
  },
  {
   "cell_type": "code",
   "execution_count": 80,
   "id": "6f11cf6b",
   "metadata": {
    "scrolled": true
   },
   "outputs": [
    {
     "data": {
      "text/html": [
       "<div>\n",
       "<style scoped>\n",
       "    .dataframe tbody tr th:only-of-type {\n",
       "        vertical-align: middle;\n",
       "    }\n",
       "\n",
       "    .dataframe tbody tr th {\n",
       "        vertical-align: top;\n",
       "    }\n",
       "\n",
       "    .dataframe thead th {\n",
       "        text-align: right;\n",
       "    }\n",
       "</style>\n",
       "<table border=\"1\" class=\"dataframe\">\n",
       "  <thead>\n",
       "    <tr style=\"text-align: right;\">\n",
       "      <th></th>\n",
       "      <th>Cement</th>\n",
       "      <th>Blast Furnace Slag</th>\n",
       "      <th>Fly Ash</th>\n",
       "      <th>Water</th>\n",
       "      <th>Superplasticizer</th>\n",
       "      <th>Coarse Aggregate</th>\n",
       "      <th>Fine Aggregate</th>\n",
       "      <th>Age</th>\n",
       "      <th>Strength</th>\n",
       "    </tr>\n",
       "  </thead>\n",
       "  <tbody>\n",
       "    <tr>\n",
       "      <th>0</th>\n",
       "      <td>540.0</td>\n",
       "      <td>0.0</td>\n",
       "      <td>0.0</td>\n",
       "      <td>162.0</td>\n",
       "      <td>2.5</td>\n",
       "      <td>1040.0</td>\n",
       "      <td>676.0</td>\n",
       "      <td>28</td>\n",
       "      <td>79.99</td>\n",
       "    </tr>\n",
       "    <tr>\n",
       "      <th>1</th>\n",
       "      <td>540.0</td>\n",
       "      <td>0.0</td>\n",
       "      <td>0.0</td>\n",
       "      <td>162.0</td>\n",
       "      <td>2.5</td>\n",
       "      <td>1055.0</td>\n",
       "      <td>676.0</td>\n",
       "      <td>28</td>\n",
       "      <td>61.89</td>\n",
       "    </tr>\n",
       "    <tr>\n",
       "      <th>2</th>\n",
       "      <td>332.5</td>\n",
       "      <td>142.5</td>\n",
       "      <td>0.0</td>\n",
       "      <td>228.0</td>\n",
       "      <td>0.0</td>\n",
       "      <td>932.0</td>\n",
       "      <td>594.0</td>\n",
       "      <td>270</td>\n",
       "      <td>40.27</td>\n",
       "    </tr>\n",
       "    <tr>\n",
       "      <th>3</th>\n",
       "      <td>332.5</td>\n",
       "      <td>142.5</td>\n",
       "      <td>0.0</td>\n",
       "      <td>228.0</td>\n",
       "      <td>0.0</td>\n",
       "      <td>932.0</td>\n",
       "      <td>594.0</td>\n",
       "      <td>365</td>\n",
       "      <td>41.05</td>\n",
       "    </tr>\n",
       "    <tr>\n",
       "      <th>4</th>\n",
       "      <td>198.6</td>\n",
       "      <td>132.4</td>\n",
       "      <td>0.0</td>\n",
       "      <td>192.0</td>\n",
       "      <td>0.0</td>\n",
       "      <td>978.4</td>\n",
       "      <td>825.5</td>\n",
       "      <td>360</td>\n",
       "      <td>44.30</td>\n",
       "    </tr>\n",
       "  </tbody>\n",
       "</table>\n",
       "</div>"
      ],
      "text/plain": [
       "   Cement  Blast Furnace Slag  Fly Ash  Water  Superplasticizer  \\\n",
       "0   540.0                 0.0      0.0  162.0               2.5   \n",
       "1   540.0                 0.0      0.0  162.0               2.5   \n",
       "2   332.5               142.5      0.0  228.0               0.0   \n",
       "3   332.5               142.5      0.0  228.0               0.0   \n",
       "4   198.6               132.4      0.0  192.0               0.0   \n",
       "\n",
       "   Coarse Aggregate  Fine Aggregate  Age  Strength  \n",
       "0            1040.0           676.0   28     79.99  \n",
       "1            1055.0           676.0   28     61.89  \n",
       "2             932.0           594.0  270     40.27  \n",
       "3             932.0           594.0  365     41.05  \n",
       "4             978.4           825.5  360     44.30  "
      ]
     },
     "execution_count": 80,
     "metadata": {},
     "output_type": "execute_result"
    }
   ],
   "source": [
    "concrete_data = pd.read_csv(\"C:/Users/hp/Downloads/concrete_data.csv\")\n",
    "concrete_data.head()"
   ]
  },
  {
   "cell_type": "markdown",
   "id": "527f8487",
   "metadata": {},
   "source": [
    "Lets check how many data points we have"
   ]
  },
  {
   "cell_type": "code",
   "execution_count": 81,
   "id": "f1a1603f",
   "metadata": {},
   "outputs": [
    {
     "data": {
      "text/plain": [
       "(1030, 9)"
      ]
     },
     "execution_count": 81,
     "metadata": {},
     "output_type": "execute_result"
    }
   ],
   "source": [
    "concrete_data.shape"
   ]
  },
  {
   "cell_type": "markdown",
   "id": "a786a805",
   "metadata": {},
   "source": [
    "Lets use describe function to get the statistics of the data "
   ]
  },
  {
   "cell_type": "code",
   "execution_count": 82,
   "id": "20598448",
   "metadata": {},
   "outputs": [
    {
     "data": {
      "text/html": [
       "<div>\n",
       "<style scoped>\n",
       "    .dataframe tbody tr th:only-of-type {\n",
       "        vertical-align: middle;\n",
       "    }\n",
       "\n",
       "    .dataframe tbody tr th {\n",
       "        vertical-align: top;\n",
       "    }\n",
       "\n",
       "    .dataframe thead th {\n",
       "        text-align: right;\n",
       "    }\n",
       "</style>\n",
       "<table border=\"1\" class=\"dataframe\">\n",
       "  <thead>\n",
       "    <tr style=\"text-align: right;\">\n",
       "      <th></th>\n",
       "      <th>Cement</th>\n",
       "      <th>Blast Furnace Slag</th>\n",
       "      <th>Fly Ash</th>\n",
       "      <th>Water</th>\n",
       "      <th>Superplasticizer</th>\n",
       "      <th>Coarse Aggregate</th>\n",
       "      <th>Fine Aggregate</th>\n",
       "      <th>Age</th>\n",
       "      <th>Strength</th>\n",
       "    </tr>\n",
       "  </thead>\n",
       "  <tbody>\n",
       "    <tr>\n",
       "      <th>count</th>\n",
       "      <td>1030.000000</td>\n",
       "      <td>1030.000000</td>\n",
       "      <td>1030.000000</td>\n",
       "      <td>1030.000000</td>\n",
       "      <td>1030.000000</td>\n",
       "      <td>1030.000000</td>\n",
       "      <td>1030.000000</td>\n",
       "      <td>1030.000000</td>\n",
       "      <td>1030.000000</td>\n",
       "    </tr>\n",
       "    <tr>\n",
       "      <th>mean</th>\n",
       "      <td>281.167864</td>\n",
       "      <td>73.895825</td>\n",
       "      <td>54.188350</td>\n",
       "      <td>181.567282</td>\n",
       "      <td>6.204660</td>\n",
       "      <td>972.918932</td>\n",
       "      <td>773.580485</td>\n",
       "      <td>45.662136</td>\n",
       "      <td>35.817961</td>\n",
       "    </tr>\n",
       "    <tr>\n",
       "      <th>std</th>\n",
       "      <td>104.506364</td>\n",
       "      <td>86.279342</td>\n",
       "      <td>63.997004</td>\n",
       "      <td>21.354219</td>\n",
       "      <td>5.973841</td>\n",
       "      <td>77.753954</td>\n",
       "      <td>80.175980</td>\n",
       "      <td>63.169912</td>\n",
       "      <td>16.705742</td>\n",
       "    </tr>\n",
       "    <tr>\n",
       "      <th>min</th>\n",
       "      <td>102.000000</td>\n",
       "      <td>0.000000</td>\n",
       "      <td>0.000000</td>\n",
       "      <td>121.800000</td>\n",
       "      <td>0.000000</td>\n",
       "      <td>801.000000</td>\n",
       "      <td>594.000000</td>\n",
       "      <td>1.000000</td>\n",
       "      <td>2.330000</td>\n",
       "    </tr>\n",
       "    <tr>\n",
       "      <th>25%</th>\n",
       "      <td>192.375000</td>\n",
       "      <td>0.000000</td>\n",
       "      <td>0.000000</td>\n",
       "      <td>164.900000</td>\n",
       "      <td>0.000000</td>\n",
       "      <td>932.000000</td>\n",
       "      <td>730.950000</td>\n",
       "      <td>7.000000</td>\n",
       "      <td>23.710000</td>\n",
       "    </tr>\n",
       "    <tr>\n",
       "      <th>50%</th>\n",
       "      <td>272.900000</td>\n",
       "      <td>22.000000</td>\n",
       "      <td>0.000000</td>\n",
       "      <td>185.000000</td>\n",
       "      <td>6.400000</td>\n",
       "      <td>968.000000</td>\n",
       "      <td>779.500000</td>\n",
       "      <td>28.000000</td>\n",
       "      <td>34.445000</td>\n",
       "    </tr>\n",
       "    <tr>\n",
       "      <th>75%</th>\n",
       "      <td>350.000000</td>\n",
       "      <td>142.950000</td>\n",
       "      <td>118.300000</td>\n",
       "      <td>192.000000</td>\n",
       "      <td>10.200000</td>\n",
       "      <td>1029.400000</td>\n",
       "      <td>824.000000</td>\n",
       "      <td>56.000000</td>\n",
       "      <td>46.135000</td>\n",
       "    </tr>\n",
       "    <tr>\n",
       "      <th>max</th>\n",
       "      <td>540.000000</td>\n",
       "      <td>359.400000</td>\n",
       "      <td>200.100000</td>\n",
       "      <td>247.000000</td>\n",
       "      <td>32.200000</td>\n",
       "      <td>1145.000000</td>\n",
       "      <td>992.600000</td>\n",
       "      <td>365.000000</td>\n",
       "      <td>82.600000</td>\n",
       "    </tr>\n",
       "  </tbody>\n",
       "</table>\n",
       "</div>"
      ],
      "text/plain": [
       "            Cement  Blast Furnace Slag      Fly Ash        Water  \\\n",
       "count  1030.000000         1030.000000  1030.000000  1030.000000   \n",
       "mean    281.167864           73.895825    54.188350   181.567282   \n",
       "std     104.506364           86.279342    63.997004    21.354219   \n",
       "min     102.000000            0.000000     0.000000   121.800000   \n",
       "25%     192.375000            0.000000     0.000000   164.900000   \n",
       "50%     272.900000           22.000000     0.000000   185.000000   \n",
       "75%     350.000000          142.950000   118.300000   192.000000   \n",
       "max     540.000000          359.400000   200.100000   247.000000   \n",
       "\n",
       "       Superplasticizer  Coarse Aggregate  Fine Aggregate          Age  \\\n",
       "count       1030.000000       1030.000000     1030.000000  1030.000000   \n",
       "mean           6.204660        972.918932      773.580485    45.662136   \n",
       "std            5.973841         77.753954       80.175980    63.169912   \n",
       "min            0.000000        801.000000      594.000000     1.000000   \n",
       "25%            0.000000        932.000000      730.950000     7.000000   \n",
       "50%            6.400000        968.000000      779.500000    28.000000   \n",
       "75%           10.200000       1029.400000      824.000000    56.000000   \n",
       "max           32.200000       1145.000000      992.600000   365.000000   \n",
       "\n",
       "          Strength  \n",
       "count  1030.000000  \n",
       "mean     35.817961  \n",
       "std      16.705742  \n",
       "min       2.330000  \n",
       "25%      23.710000  \n",
       "50%      34.445000  \n",
       "75%      46.135000  \n",
       "max      82.600000  "
      ]
     },
     "execution_count": 82,
     "metadata": {},
     "output_type": "execute_result"
    }
   ],
   "source": [
    "concrete_data.describe()"
   ]
  },
  {
   "cell_type": "markdown",
   "id": "d97e245f",
   "metadata": {},
   "source": [
    "Lets check if the data contains any missing values in the dataset"
   ]
  },
  {
   "cell_type": "code",
   "execution_count": 83,
   "id": "5db4449a",
   "metadata": {
    "scrolled": false
   },
   "outputs": [
    {
     "data": {
      "text/plain": [
       "Cement                0\n",
       "Blast Furnace Slag    0\n",
       "Fly Ash               0\n",
       "Water                 0\n",
       "Superplasticizer      0\n",
       "Coarse Aggregate      0\n",
       "Fine Aggregate        0\n",
       "Age                   0\n",
       "Strength              0\n",
       "dtype: int64"
      ]
     },
     "execution_count": 83,
     "metadata": {},
     "output_type": "execute_result"
    }
   ],
   "source": [
    "concrete_data.isnull().sum()"
   ]
  },
  {
   "cell_type": "markdown",
   "id": "64bb2ad8",
   "metadata": {},
   "source": [
    "The data does not contain any Missing values So we are ready to build the model"
   ]
  },
  {
   "cell_type": "markdown",
   "id": "4ea945d7",
   "metadata": {},
   "source": [
    "## Spliting the data into predictor and Target"
   ]
  },
  {
   "cell_type": "markdown",
   "id": "e5176592",
   "metadata": {},
   "source": [
    "The target variable in this problem is the concrete sample strength. Therefore, our predictors will be all the other columns."
   ]
  },
  {
   "cell_type": "code",
   "execution_count": 84,
   "id": "4bb6816b",
   "metadata": {},
   "outputs": [],
   "source": [
    "concrete_data_columns = concrete_data.columns\n",
    "predictors = concrete_data[concrete_data_columns[concrete_data_columns != 'Strength']] # all columns except Strength\n",
    "target = concrete_data['Strength'] "
   ]
  },
  {
   "cell_type": "markdown",
   "id": "3a400d07",
   "metadata": {},
   "source": [
    "Describing the predictors"
   ]
  },
  {
   "cell_type": "code",
   "execution_count": 85,
   "id": "748cd182",
   "metadata": {
    "scrolled": false
   },
   "outputs": [
    {
     "data": {
      "text/html": [
       "<div>\n",
       "<style scoped>\n",
       "    .dataframe tbody tr th:only-of-type {\n",
       "        vertical-align: middle;\n",
       "    }\n",
       "\n",
       "    .dataframe tbody tr th {\n",
       "        vertical-align: top;\n",
       "    }\n",
       "\n",
       "    .dataframe thead th {\n",
       "        text-align: right;\n",
       "    }\n",
       "</style>\n",
       "<table border=\"1\" class=\"dataframe\">\n",
       "  <thead>\n",
       "    <tr style=\"text-align: right;\">\n",
       "      <th></th>\n",
       "      <th>Cement</th>\n",
       "      <th>Blast Furnace Slag</th>\n",
       "      <th>Fly Ash</th>\n",
       "      <th>Water</th>\n",
       "      <th>Superplasticizer</th>\n",
       "      <th>Coarse Aggregate</th>\n",
       "      <th>Fine Aggregate</th>\n",
       "      <th>Age</th>\n",
       "    </tr>\n",
       "  </thead>\n",
       "  <tbody>\n",
       "    <tr>\n",
       "      <th>0</th>\n",
       "      <td>540.0</td>\n",
       "      <td>0.0</td>\n",
       "      <td>0.0</td>\n",
       "      <td>162.0</td>\n",
       "      <td>2.5</td>\n",
       "      <td>1040.0</td>\n",
       "      <td>676.0</td>\n",
       "      <td>28</td>\n",
       "    </tr>\n",
       "    <tr>\n",
       "      <th>1</th>\n",
       "      <td>540.0</td>\n",
       "      <td>0.0</td>\n",
       "      <td>0.0</td>\n",
       "      <td>162.0</td>\n",
       "      <td>2.5</td>\n",
       "      <td>1055.0</td>\n",
       "      <td>676.0</td>\n",
       "      <td>28</td>\n",
       "    </tr>\n",
       "    <tr>\n",
       "      <th>2</th>\n",
       "      <td>332.5</td>\n",
       "      <td>142.5</td>\n",
       "      <td>0.0</td>\n",
       "      <td>228.0</td>\n",
       "      <td>0.0</td>\n",
       "      <td>932.0</td>\n",
       "      <td>594.0</td>\n",
       "      <td>270</td>\n",
       "    </tr>\n",
       "    <tr>\n",
       "      <th>3</th>\n",
       "      <td>332.5</td>\n",
       "      <td>142.5</td>\n",
       "      <td>0.0</td>\n",
       "      <td>228.0</td>\n",
       "      <td>0.0</td>\n",
       "      <td>932.0</td>\n",
       "      <td>594.0</td>\n",
       "      <td>365</td>\n",
       "    </tr>\n",
       "    <tr>\n",
       "      <th>4</th>\n",
       "      <td>198.6</td>\n",
       "      <td>132.4</td>\n",
       "      <td>0.0</td>\n",
       "      <td>192.0</td>\n",
       "      <td>0.0</td>\n",
       "      <td>978.4</td>\n",
       "      <td>825.5</td>\n",
       "      <td>360</td>\n",
       "    </tr>\n",
       "  </tbody>\n",
       "</table>\n",
       "</div>"
      ],
      "text/plain": [
       "   Cement  Blast Furnace Slag  Fly Ash  Water  Superplasticizer  \\\n",
       "0   540.0                 0.0      0.0  162.0               2.5   \n",
       "1   540.0                 0.0      0.0  162.0               2.5   \n",
       "2   332.5               142.5      0.0  228.0               0.0   \n",
       "3   332.5               142.5      0.0  228.0               0.0   \n",
       "4   198.6               132.4      0.0  192.0               0.0   \n",
       "\n",
       "   Coarse Aggregate  Fine Aggregate  Age  \n",
       "0            1040.0           676.0   28  \n",
       "1            1055.0           676.0   28  \n",
       "2             932.0           594.0  270  \n",
       "3             932.0           594.0  365  \n",
       "4             978.4           825.5  360  "
      ]
     },
     "execution_count": 85,
     "metadata": {},
     "output_type": "execute_result"
    }
   ],
   "source": [
    "predictors.head()"
   ]
  },
  {
   "cell_type": "markdown",
   "id": "9602ebed",
   "metadata": {},
   "source": [
    "Decribing the target "
   ]
  },
  {
   "cell_type": "code",
   "execution_count": 86,
   "id": "c1b808ab",
   "metadata": {
    "scrolled": true
   },
   "outputs": [
    {
     "data": {
      "text/plain": [
       "0    79.99\n",
       "1    61.89\n",
       "2    40.27\n",
       "3    41.05\n",
       "4    44.30\n",
       "Name: Strength, dtype: float64"
      ]
     },
     "execution_count": 86,
     "metadata": {},
     "output_type": "execute_result"
    }
   ],
   "source": [
    "target.head()"
   ]
  },
  {
   "cell_type": "markdown",
   "id": "0c45c0b0",
   "metadata": {},
   "source": [
    "Normalizing the Predictors"
   ]
  },
  {
   "cell_type": "code",
   "execution_count": 87,
   "id": "79ef1724",
   "metadata": {
    "scrolled": true
   },
   "outputs": [
    {
     "data": {
      "text/html": [
       "<div>\n",
       "<style scoped>\n",
       "    .dataframe tbody tr th:only-of-type {\n",
       "        vertical-align: middle;\n",
       "    }\n",
       "\n",
       "    .dataframe tbody tr th {\n",
       "        vertical-align: top;\n",
       "    }\n",
       "\n",
       "    .dataframe thead th {\n",
       "        text-align: right;\n",
       "    }\n",
       "</style>\n",
       "<table border=\"1\" class=\"dataframe\">\n",
       "  <thead>\n",
       "    <tr style=\"text-align: right;\">\n",
       "      <th></th>\n",
       "      <th>Cement</th>\n",
       "      <th>Blast Furnace Slag</th>\n",
       "      <th>Fly Ash</th>\n",
       "      <th>Water</th>\n",
       "      <th>Superplasticizer</th>\n",
       "      <th>Coarse Aggregate</th>\n",
       "      <th>Fine Aggregate</th>\n",
       "      <th>Age</th>\n",
       "    </tr>\n",
       "  </thead>\n",
       "  <tbody>\n",
       "    <tr>\n",
       "      <th>0</th>\n",
       "      <td>2.476712</td>\n",
       "      <td>-0.856472</td>\n",
       "      <td>-0.846733</td>\n",
       "      <td>-0.916319</td>\n",
       "      <td>-0.620147</td>\n",
       "      <td>0.862735</td>\n",
       "      <td>-1.217079</td>\n",
       "      <td>-0.279597</td>\n",
       "    </tr>\n",
       "    <tr>\n",
       "      <th>1</th>\n",
       "      <td>2.476712</td>\n",
       "      <td>-0.856472</td>\n",
       "      <td>-0.846733</td>\n",
       "      <td>-0.916319</td>\n",
       "      <td>-0.620147</td>\n",
       "      <td>1.055651</td>\n",
       "      <td>-1.217079</td>\n",
       "      <td>-0.279597</td>\n",
       "    </tr>\n",
       "    <tr>\n",
       "      <th>2</th>\n",
       "      <td>0.491187</td>\n",
       "      <td>0.795140</td>\n",
       "      <td>-0.846733</td>\n",
       "      <td>2.174405</td>\n",
       "      <td>-1.038638</td>\n",
       "      <td>-0.526262</td>\n",
       "      <td>-2.239829</td>\n",
       "      <td>3.551340</td>\n",
       "    </tr>\n",
       "    <tr>\n",
       "      <th>3</th>\n",
       "      <td>0.491187</td>\n",
       "      <td>0.795140</td>\n",
       "      <td>-0.846733</td>\n",
       "      <td>2.174405</td>\n",
       "      <td>-1.038638</td>\n",
       "      <td>-0.526262</td>\n",
       "      <td>-2.239829</td>\n",
       "      <td>5.055221</td>\n",
       "    </tr>\n",
       "    <tr>\n",
       "      <th>4</th>\n",
       "      <td>-0.790075</td>\n",
       "      <td>0.678079</td>\n",
       "      <td>-0.846733</td>\n",
       "      <td>0.488555</td>\n",
       "      <td>-1.038638</td>\n",
       "      <td>0.070492</td>\n",
       "      <td>0.647569</td>\n",
       "      <td>4.976069</td>\n",
       "    </tr>\n",
       "  </tbody>\n",
       "</table>\n",
       "</div>"
      ],
      "text/plain": [
       "     Cement  Blast Furnace Slag   Fly Ash     Water  Superplasticizer  \\\n",
       "0  2.476712           -0.856472 -0.846733 -0.916319         -0.620147   \n",
       "1  2.476712           -0.856472 -0.846733 -0.916319         -0.620147   \n",
       "2  0.491187            0.795140 -0.846733  2.174405         -1.038638   \n",
       "3  0.491187            0.795140 -0.846733  2.174405         -1.038638   \n",
       "4 -0.790075            0.678079 -0.846733  0.488555         -1.038638   \n",
       "\n",
       "   Coarse Aggregate  Fine Aggregate       Age  \n",
       "0          0.862735       -1.217079 -0.279597  \n",
       "1          1.055651       -1.217079 -0.279597  \n",
       "2         -0.526262       -2.239829  3.551340  \n",
       "3         -0.526262       -2.239829  5.055221  \n",
       "4          0.070492        0.647569  4.976069  "
      ]
     },
     "execution_count": 87,
     "metadata": {},
     "output_type": "execute_result"
    }
   ],
   "source": [
    "predictors_norm = (predictors - predictors.mean()) / predictors.std()\n",
    "predictors_norm.head()"
   ]
  },
  {
   "cell_type": "markdown",
   "id": "3a661b18",
   "metadata": {},
   "source": [
    "Knowing the number of predictors"
   ]
  },
  {
   "cell_type": "code",
   "execution_count": 88,
   "id": "cf153d05",
   "metadata": {},
   "outputs": [
    {
     "data": {
      "text/plain": [
       "8"
      ]
     },
     "execution_count": 88,
     "metadata": {},
     "output_type": "execute_result"
    }
   ],
   "source": [
    "n_cols = predictors_norm.shape[1] # number of predictors\n",
    "n_cols"
   ]
  },
  {
   "cell_type": "markdown",
   "id": "cca8f771",
   "metadata": {},
   "source": [
    "# Import Keras"
   ]
  },
  {
   "cell_type": "code",
   "execution_count": 89,
   "id": "fa2e020d",
   "metadata": {},
   "outputs": [],
   "source": [
    "import keras"
   ]
  },
  {
   "cell_type": "markdown",
   "id": "e1b2c9a4",
   "metadata": {},
   "source": [
    "Lets import the Sequential and Dense Layers to create our model"
   ]
  },
  {
   "cell_type": "code",
   "execution_count": 90,
   "id": "0d518d77",
   "metadata": {},
   "outputs": [],
   "source": [
    "from keras.models import Sequential\n",
    "from keras.layers import Dense"
   ]
  },
  {
   "cell_type": "markdown",
   "id": "ee4bde9a",
   "metadata": {},
   "source": [
    "## Creating our model and Compiling the model"
   ]
  },
  {
   "cell_type": "markdown",
   "id": "2ff54fc2",
   "metadata": {},
   "source": [
    "The above function creates a model that has one hidden layer with 10 neurons and a ReLU activation function. It uses the adam optimizer and the mean squared error as the loss function."
   ]
  },
  {
   "cell_type": "code",
   "execution_count": 91,
   "id": "a66ab8cb",
   "metadata": {},
   "outputs": [],
   "source": [
    "def model():\n",
    "    model = Sequential()\n",
    "    model.add(Dense(10, activation='relu', input_shape=(n_cols,)))\n",
    "    model.add(Dense(10, activation='relu'))\n",
    "    model.add(Dense(10, activation='relu'))\n",
    "    model.add(Dense(1))\n",
    "\n",
    "    model.compile(optimizer='adam', loss='mean_squared_error')\n",
    "    return model"
   ]
  },
  {
   "cell_type": "markdown",
   "id": "c91b2cc6",
   "metadata": {},
   "source": [
    "Now As mentioned we use Scikit-learn inn order to randomly split the data into training and test set"
   ]
  },
  {
   "cell_type": "code",
   "execution_count": 92,
   "id": "df9e5f6b",
   "metadata": {},
   "outputs": [],
   "source": [
    "from sklearn.model_selection import train_test_split"
   ]
  },
  {
   "cell_type": "code",
   "execution_count": 93,
   "id": "dbb0d997",
   "metadata": {},
   "outputs": [],
   "source": [
    "X_train, X_test, y_train, y_test = train_test_split(predictors, target, test_size=0.3, random_state=42)"
   ]
  },
  {
   "cell_type": "markdown",
   "id": "ec7fd287",
   "metadata": {},
   "source": [
    "## Train and Test the Network"
   ]
  },
  {
   "cell_type": "markdown",
   "id": "4424e097",
   "metadata": {},
   "source": [
    "Let's call the function now to create our model."
   ]
  },
  {
   "cell_type": "code",
   "execution_count": 94,
   "id": "cfbe76d0",
   "metadata": {},
   "outputs": [],
   "source": [
    "model = model()"
   ]
  },
  {
   "cell_type": "markdown",
   "id": "01abaac4",
   "metadata": {},
   "source": [
    "Now we'll train about 50 epochs"
   ]
  },
  {
   "cell_type": "code",
   "execution_count": 95,
   "id": "9d6c328e",
   "metadata": {},
   "outputs": [
    {
     "name": "stdout",
     "output_type": "stream",
     "text": [
      "Epoch 1/100\n",
      "23/23 [==============================] - 1s 11ms/step - loss: 229.1447\n",
      "Epoch 2/100\n",
      "23/23 [==============================] - 0s 10ms/step - loss: 167.5913\n",
      "Epoch 3/100\n",
      "23/23 [==============================] - 0s 9ms/step - loss: 140.4012\n",
      "Epoch 4/100\n",
      "23/23 [==============================] - 0s 10ms/step - loss: 130.5580\n",
      "Epoch 5/100\n",
      "23/23 [==============================] - 0s 10ms/step - loss: 120.2882\n",
      "Epoch 6/100\n",
      "23/23 [==============================] - 0s 10ms/step - loss: 114.2843\n",
      "Epoch 7/100\n",
      "23/23 [==============================] - 0s 9ms/step - loss: 109.3333\n",
      "Epoch 8/100\n",
      "23/23 [==============================] - 0s 10ms/step - loss: 108.9083\n",
      "Epoch 9/100\n",
      "23/23 [==============================] - 0s 11ms/step - loss: 112.0313\n",
      "Epoch 10/100\n",
      "23/23 [==============================] - 0s 10ms/step - loss: 104.6353\n",
      "Epoch 11/100\n",
      "23/23 [==============================] - 0s 10ms/step - loss: 108.7053\n",
      "Epoch 12/100\n",
      "23/23 [==============================] - 0s 10ms/step - loss: 104.1610\n",
      "Epoch 13/100\n",
      "23/23 [==============================] - 0s 10ms/step - loss: 105.6093\n",
      "Epoch 14/100\n",
      "23/23 [==============================] - 0s 9ms/step - loss: 102.9192\n",
      "Epoch 15/100\n",
      "23/23 [==============================] - 0s 10ms/step - loss: 102.0315\n",
      "Epoch 16/100\n",
      "23/23 [==============================] - 0s 10ms/step - loss: 102.6609\n",
      "Epoch 17/100\n",
      "23/23 [==============================] - 0s 10ms/step - loss: 98.9717\n",
      "Epoch 18/100\n",
      "23/23 [==============================] - 0s 10ms/step - loss: 98.8843\n",
      "Epoch 19/100\n",
      "23/23 [==============================] - 0s 9ms/step - loss: 99.7951\n",
      "Epoch 20/100\n",
      "23/23 [==============================] - 0s 9ms/step - loss: 100.5830\n",
      "Epoch 21/100\n",
      "23/23 [==============================] - 0s 10ms/step - loss: 95.5131\n",
      "Epoch 22/100\n",
      "23/23 [==============================] - 0s 10ms/step - loss: 99.2984\n",
      "Epoch 23/100\n",
      "23/23 [==============================] - 0s 9ms/step - loss: 96.2840\n",
      "Epoch 24/100\n",
      "23/23 [==============================] - 0s 9ms/step - loss: 92.0789\n",
      "Epoch 25/100\n",
      "23/23 [==============================] - 0s 10ms/step - loss: 93.3558\n",
      "Epoch 26/100\n",
      "23/23 [==============================] - 0s 9ms/step - loss: 94.3102\n",
      "Epoch 27/100\n",
      "23/23 [==============================] - 0s 10ms/step - loss: 90.7583\n",
      "Epoch 28/100\n",
      "23/23 [==============================] - 0s 9ms/step - loss: 89.9191\n",
      "Epoch 29/100\n",
      "23/23 [==============================] - 0s 9ms/step - loss: 88.7004\n",
      "Epoch 30/100\n",
      "23/23 [==============================] - 0s 9ms/step - loss: 87.1903\n",
      "Epoch 31/100\n",
      "23/23 [==============================] - 0s 9ms/step - loss: 88.4339\n",
      "Epoch 32/100\n",
      "23/23 [==============================] - 0s 10ms/step - loss: 90.2733\n",
      "Epoch 33/100\n",
      "23/23 [==============================] - 0s 10ms/step - loss: 88.3013\n",
      "Epoch 34/100\n",
      "23/23 [==============================] - 0s 11ms/step - loss: 86.4754\n",
      "Epoch 35/100\n",
      "23/23 [==============================] - 0s 10ms/step - loss: 87.5420\n",
      "Epoch 36/100\n",
      "23/23 [==============================] - 0s 10ms/step - loss: 87.3697\n",
      "Epoch 37/100\n",
      "23/23 [==============================] - 0s 10ms/step - loss: 84.5981\n",
      "Epoch 38/100\n",
      "23/23 [==============================] - 0s 11ms/step - loss: 89.6540\n",
      "Epoch 39/100\n",
      "23/23 [==============================] - 0s 11ms/step - loss: 91.2440\n",
      "Epoch 40/100\n",
      "23/23 [==============================] - 0s 9ms/step - loss: 83.2421\n",
      "Epoch 41/100\n",
      "23/23 [==============================] - 0s 11ms/step - loss: 80.9892\n",
      "Epoch 42/100\n",
      "23/23 [==============================] - 0s 11ms/step - loss: 87.8683\n",
      "Epoch 43/100\n",
      "23/23 [==============================] - 0s 10ms/step - loss: 81.9708\n",
      "Epoch 44/100\n",
      "23/23 [==============================] - 0s 9ms/step - loss: 80.3650\n",
      "Epoch 45/100\n",
      "23/23 [==============================] - 0s 8ms/step - loss: 81.0345\n",
      "Epoch 46/100\n",
      "23/23 [==============================] - 0s 9ms/step - loss: 80.4891\n",
      "Epoch 47/100\n",
      "23/23 [==============================] - 0s 8ms/step - loss: 79.9231\n",
      "Epoch 48/100\n",
      "23/23 [==============================] - 0s 7ms/step - loss: 77.6432\n",
      "Epoch 49/100\n",
      "23/23 [==============================] - 0s 8ms/step - loss: 77.1762\n",
      "Epoch 50/100\n",
      "23/23 [==============================] - 0s 8ms/step - loss: 74.4996\n",
      "Epoch 51/100\n",
      "23/23 [==============================] - 0s 7ms/step - loss: 74.6642\n",
      "Epoch 52/100\n",
      "23/23 [==============================] - 0s 8ms/step - loss: 78.7719\n",
      "Epoch 53/100\n",
      "23/23 [==============================] - 0s 8ms/step - loss: 79.0785\n",
      "Epoch 54/100\n",
      "23/23 [==============================] - 0s 8ms/step - loss: 75.8620\n",
      "Epoch 55/100\n",
      "23/23 [==============================] - 0s 9ms/step - loss: 76.7773\n",
      "Epoch 56/100\n",
      "23/23 [==============================] - 0s 8ms/step - loss: 72.6261\n",
      "Epoch 57/100\n",
      "23/23 [==============================] - 0s 8ms/step - loss: 78.2022\n",
      "Epoch 58/100\n",
      "23/23 [==============================] - 0s 8ms/step - loss: 73.2895\n",
      "Epoch 59/100\n",
      "23/23 [==============================] - 0s 8ms/step - loss: 71.5123\n",
      "Epoch 60/100\n",
      "23/23 [==============================] - 0s 8ms/step - loss: 71.2257\n",
      "Epoch 61/100\n",
      "23/23 [==============================] - 0s 8ms/step - loss: 72.7214\n",
      "Epoch 62/100\n",
      "23/23 [==============================] - 0s 7ms/step - loss: 72.1193\n",
      "Epoch 63/100\n",
      "23/23 [==============================] - 0s 9ms/step - loss: 73.7909\n",
      "Epoch 64/100\n",
      "23/23 [==============================] - 0s 8ms/step - loss: 70.4185\n",
      "Epoch 65/100\n",
      "23/23 [==============================] - 0s 9ms/step - loss: 71.3266\n",
      "Epoch 66/100\n",
      "23/23 [==============================] - 0s 8ms/step - loss: 75.7531\n",
      "Epoch 67/100\n",
      "23/23 [==============================] - 0s 8ms/step - loss: 71.4440\n",
      "Epoch 68/100\n",
      "23/23 [==============================] - 0s 9ms/step - loss: 82.0805\n",
      "Epoch 69/100\n",
      "23/23 [==============================] - 0s 8ms/step - loss: 73.5895\n",
      "Epoch 70/100\n",
      "23/23 [==============================] - 0s 8ms/step - loss: 71.4318\n",
      "Epoch 71/100\n",
      "23/23 [==============================] - 0s 8ms/step - loss: 68.0287\n",
      "Epoch 72/100\n",
      "23/23 [==============================] - 0s 8ms/step - loss: 70.0853\n",
      "Epoch 73/100\n",
      "23/23 [==============================] - 0s 8ms/step - loss: 68.9624\n",
      "Epoch 74/100\n",
      "23/23 [==============================] - 0s 10ms/step - loss: 70.5598\n",
      "Epoch 75/100\n",
      "23/23 [==============================] - 0s 9ms/step - loss: 68.0602\n",
      "Epoch 76/100\n",
      "23/23 [==============================] - 0s 10ms/step - loss: 69.3084\n",
      "Epoch 77/100\n",
      "23/23 [==============================] - 0s 9ms/step - loss: 71.1123\n",
      "Epoch 78/100\n",
      "23/23 [==============================] - 0s 9ms/step - loss: 70.2502\n",
      "Epoch 79/100\n",
      "23/23 [==============================] - 0s 10ms/step - loss: 67.0766\n",
      "Epoch 80/100\n",
      "23/23 [==============================] - 0s 9ms/step - loss: 69.1884\n",
      "Epoch 81/100\n",
      "23/23 [==============================] - 0s 10ms/step - loss: 66.3789\n",
      "Epoch 82/100\n",
      "23/23 [==============================] - 0s 10ms/step - loss: 66.0710\n",
      "Epoch 83/100\n",
      "23/23 [==============================] - 0s 10ms/step - loss: 64.8165\n",
      "Epoch 84/100\n",
      "23/23 [==============================] - 0s 10ms/step - loss: 66.3045\n",
      "Epoch 85/100\n",
      "23/23 [==============================] - 0s 10ms/step - loss: 65.8726\n",
      "Epoch 86/100\n",
      "23/23 [==============================] - 0s 11ms/step - loss: 66.8851\n",
      "Epoch 87/100\n",
      "23/23 [==============================] - 0s 10ms/step - loss: 64.4615\n",
      "Epoch 88/100\n",
      "23/23 [==============================] - 0s 11ms/step - loss: 63.9109\n",
      "Epoch 89/100\n",
      "23/23 [==============================] - 0s 9ms/step - loss: 64.0025\n",
      "Epoch 90/100\n",
      "23/23 [==============================] - 0s 8ms/step - loss: 68.0219\n",
      "Epoch 91/100\n",
      "23/23 [==============================] - 0s 10ms/step - loss: 65.8008\n",
      "Epoch 92/100\n",
      "23/23 [==============================] - 0s 9ms/step - loss: 62.6351\n",
      "Epoch 93/100\n",
      "23/23 [==============================] - 0s 7ms/step - loss: 62.0706\n",
      "Epoch 94/100\n",
      "23/23 [==============================] - 0s 9ms/step - loss: 62.1124\n",
      "Epoch 95/100\n",
      "23/23 [==============================] - 0s 8ms/step - loss: 61.4816\n",
      "Epoch 96/100\n",
      "23/23 [==============================] - 0s 8ms/step - loss: 61.8425\n",
      "Epoch 97/100\n",
      "23/23 [==============================] - 0s 8ms/step - loss: 60.9048\n",
      "Epoch 98/100\n",
      "23/23 [==============================] - 0s 8ms/step - loss: 62.7576\n",
      "Epoch 99/100\n",
      "23/23 [==============================] - 0s 9ms/step - loss: 62.1673\n",
      "Epoch 100/100\n"
     ]
    },
    {
     "name": "stdout",
     "output_type": "stream",
     "text": [
      "23/23 [==============================] - 0s 8ms/step - loss: 61.8811\n"
     ]
    },
    {
     "data": {
      "text/plain": [
       "<keras.callbacks.History at 0x2517c1dd600>"
      ]
     },
     "execution_count": 95,
     "metadata": {},
     "output_type": "execute_result"
    }
   ],
   "source": [
    "epochs=100\n",
    "model.fit(X_train,y_train,epochs=epochs,verbose=1)"
   ]
  },
  {
   "cell_type": "markdown",
   "id": "5946d4a4",
   "metadata": {},
   "source": [
    "Next we need to evaluate the model on the test data."
   ]
  },
  {
   "cell_type": "code",
   "execution_count": 96,
   "id": "808c6ed1",
   "metadata": {},
   "outputs": [
    {
     "name": "stdout",
     "output_type": "stream",
     "text": [
      "10/10 [==============================] - 0s 9ms/step - loss: 58.4881\n",
      "10/10 [==============================] - 0s 5ms/step\n"
     ]
    },
    {
     "data": {
      "text/plain": [
       "58.48808670043945"
      ]
     },
     "execution_count": 96,
     "metadata": {},
     "output_type": "execute_result"
    }
   ],
   "source": [
    "loss_val = model.evaluate(X_test, y_test)\n",
    "y_pred = model.predict(X_test)\n",
    "loss_val"
   ]
  },
  {
   "cell_type": "markdown",
   "id": "140740b8",
   "metadata": {},
   "source": [
    "Now we need to compute the mean squared error between the predicted concrete strength and the actual concrete strength."
   ]
  },
  {
   "cell_type": "code",
   "execution_count": 97,
   "id": "51e92177",
   "metadata": {},
   "outputs": [],
   "source": [
    "from sklearn.metrics import mean_squared_error"
   ]
  },
  {
   "cell_type": "code",
   "execution_count": 98,
   "id": "f5264953",
   "metadata": {},
   "outputs": [
    {
     "name": "stdout",
     "output_type": "stream",
     "text": [
      "58.48808361278827 0.0\n"
     ]
    }
   ],
   "source": [
    "mean_square_error = mean_squared_error(y_test, y_pred)\n",
    "mean = np.mean(mean_square_error)\n",
    "standard_deviation = np.std(mean_square_error)\n",
    "print(mean, standard_deviation)"
   ]
  },
  {
   "cell_type": "markdown",
   "id": "567b0122",
   "metadata": {},
   "source": [
    "Create a list of 50 mean squared errors and report mean and the standard deviation of the mean squared errors."
   ]
  },
  {
   "cell_type": "code",
   "execution_count": null,
   "id": "d3be2cc3",
   "metadata": {},
   "outputs": [
    {
     "name": "stdout",
     "output_type": "stream",
     "text": [
      "MSE 1: 51.91017532348633\n",
      "10/10 [==============================] - 0s 6ms/step\n",
      "MSE 2: 56.57708740234375\n",
      "10/10 [==============================] - 0s 7ms/step\n",
      "MSE 3: 44.363555908203125\n",
      "10/10 [==============================] - 0s 6ms/step\n",
      "MSE 4: 51.630001068115234\n",
      "10/10 [==============================] - 0s 4ms/step\n",
      "MSE 5: 48.33941650390625\n",
      "10/10 [==============================] - 0s 6ms/step\n",
      "MSE 6: 50.10601806640625\n",
      "10/10 [==============================] - 0s 5ms/step\n",
      "MSE 7: 60.34893798828125\n",
      "10/10 [==============================] - 0s 5ms/step\n",
      "MSE 8: 43.288330078125\n",
      "10/10 [==============================] - 0s 6ms/step\n",
      "MSE 9: 43.55839920043945\n",
      "10/10 [==============================] - 0s 5ms/step\n",
      "MSE 10: 48.15822219848633\n",
      "10/10 [==============================] - 0s 9ms/step\n",
      "MSE 11: 42.13508987426758\n",
      "10/10 [==============================] - 0s 6ms/step\n",
      "MSE 12: 39.97395706176758\n",
      "10/10 [==============================] - 0s 7ms/step\n",
      "MSE 13: 47.7383918762207\n",
      "10/10 [==============================] - 0s 5ms/step\n",
      "MSE 14: 44.03346633911133\n",
      "10/10 [==============================] - 0s 13ms/step\n",
      "MSE 15: 40.325443267822266\n",
      "10/10 [==============================] - 0s 5ms/step\n",
      "MSE 16: 36.523948669433594\n",
      "10/10 [==============================] - 0s 5ms/step\n",
      "MSE 17: 38.303443908691406\n",
      "10/10 [==============================] - 0s 5ms/step\n",
      "MSE 18: 41.89550018310547\n",
      "10/10 [==============================] - 0s 6ms/step\n",
      "MSE 19: 35.56578063964844\n",
      "10/10 [==============================] - 0s 6ms/step\n",
      "MSE 20: 39.73226547241211\n",
      "10/10 [==============================] - 0s 5ms/step\n",
      "MSE 21: 38.941925048828125\n",
      "10/10 [==============================] - 0s 5ms/step\n",
      "MSE 22: 38.0609245300293\n",
      "10/10 [==============================] - 0s 5ms/step\n",
      "MSE 23: 33.54538345336914\n",
      "10/10 [==============================] - 0s 5ms/step\n",
      "MSE 24: 37.41221237182617\n",
      "10/10 [==============================] - 0s 7ms/step\n",
      "MSE 25: 40.82448959350586\n",
      "10/10 [==============================] - 0s 6ms/step\n",
      "MSE 26: 42.495452880859375\n",
      "10/10 [==============================] - 0s 5ms/step\n",
      "MSE 27: 40.8282585144043\n",
      "10/10 [==============================] - 0s 5ms/step\n",
      "MSE 28: 35.737701416015625\n",
      "10/10 [==============================] - 0s 5ms/step\n",
      "MSE 29: 40.739295959472656\n",
      "10/10 [==============================] - 0s 5ms/step\n",
      "MSE 30: 42.801612854003906\n",
      "10/10 [==============================] - 0s 5ms/step\n",
      "MSE 31: 40.772064208984375\n",
      "10/10 [==============================] - 0s 7ms/step\n",
      "MSE 32: 35.27799987792969\n",
      "10/10 [==============================] - 0s 6ms/step\n",
      "MSE 33: 38.318580627441406\n",
      "10/10 [==============================] - 0s 5ms/step\n",
      "MSE 34: 36.73341369628906\n",
      "10/10 [==============================] - 0s 5ms/step\n",
      "MSE 35: 38.916446685791016\n",
      "10/10 [==============================] - 0s 5ms/step\n",
      "MSE 36: 41.22275924682617\n",
      "10/10 [==============================] - 0s 6ms/step\n",
      "MSE 37: 38.72362518310547\n",
      "10/10 [==============================] - 0s 7ms/step\n",
      "MSE 38: 44.330108642578125\n",
      "10/10 [==============================] - 0s 5ms/step\n",
      "MSE 39: 39.41593551635742\n",
      "10/10 [==============================] - 0s 5ms/step\n",
      "MSE 40: 38.05370330810547\n",
      "10/10 [==============================] - 0s 5ms/step\n",
      "MSE 41: 41.694915771484375\n",
      "10/10 [==============================] - 0s 7ms/step\n",
      "MSE 42: 36.80146408081055\n",
      "10/10 [==============================] - 0s 7ms/step\n",
      "MSE 43: 36.77626419067383\n",
      "10/10 [==============================] - 0s 9ms/step\n",
      "MSE 44: 43.184967041015625\n",
      "10/10 [==============================] - 0s 5ms/step\n"
     ]
    }
   ],
   "source": [
    "total_mean_squared_errors = 50\n",
    "epochs = 50\n",
    "mean_squared_errors = []\n",
    "for i in range(0, total_mean_squared_errors):\n",
    "    X_train, X_test, y_train, y_test = train_test_split(predictors, target, test_size=0.3, random_state=i)\n",
    "    model.fit(X_train, y_train, epochs=epochs, verbose=0)\n",
    "    MSE = model.evaluate(X_test, y_test, verbose=0)\n",
    "    print(\"MSE \"+str(i+1)+\": \"+str(MSE))\n",
    "    y_pred = model.predict(X_test)\n",
    "    mean_square_error = mean_squared_error(y_test, y_pred)\n",
    "    mean_squared_errors.append(mean_square_error)\n",
    "\n",
    "mean_squared_errors = np.array(mean_squared_errors)\n",
    "mean = np.mean(mean_squared_errors)\n",
    "standard_deviation = np.std(mean_squared_errors)\n",
    "\n",
    "print('\\n')\n",
    "print(\"Below is the mean and standard deviation of \" +str(total_mean_squared_errors) + \" mean squared errors without normalized data. Total number of epochs for each training is: \" +str(epochs) + \"\\n\")\n",
    "print(\"Mean: \"+str(mean))\n",
    "print(\"Standard Deviation: \"+str(standard_deviation))"
   ]
  }
 ],
 "metadata": {
  "kernelspec": {
   "display_name": "Python 3 (ipykernel)",
   "language": "python",
   "name": "python3"
  },
  "language_info": {
   "codemirror_mode": {
    "name": "ipython",
    "version": 3
   },
   "file_extension": ".py",
   "mimetype": "text/x-python",
   "name": "python",
   "nbconvert_exporter": "python",
   "pygments_lexer": "ipython3",
   "version": "3.10.4"
  }
 },
 "nbformat": 4,
 "nbformat_minor": 5
}
