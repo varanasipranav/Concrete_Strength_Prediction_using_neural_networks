{
 "cells": [
  {
   "cell_type": "markdown",
   "id": "027846a7",
   "metadata": {},
   "source": [
    "# Importing datasets and necesarry Libraries"
   ]
  },
  {
   "cell_type": "markdown",
   "id": "ea4c0dc3",
   "metadata": {},
   "source": [
    "Lets import pandas and Numpy Libraries"
   ]
  },
  {
   "cell_type": "code",
   "execution_count": 36,
   "id": "c9ac91ae",
   "metadata": {},
   "outputs": [],
   "source": [
    "import pandas as pd\n",
    "import numpy as np"
   ]
  },
  {
   "cell_type": "markdown",
   "id": "7e598d74",
   "metadata": {},
   "source": [
    "We will be using the dataset provided in the assignment\n",
    "\n",
    "The dataset is about the compressive strength of different samples of concrete based on the volumes of the different ingredients that were used to make them. Ingredients include:\n",
    "\n",
    "1. Cement\n",
    "\n",
    "2. Blast Furnace Slag\n",
    "\n",
    "3. Fly Ash\n",
    "\n",
    "4. Water\n",
    "\n",
    "5. Superplasticizer\n",
    "\n",
    "6. Coarse Aggregate\n",
    "\n",
    "7. Fine Aggregate\n",
    "\n",
    "Let's read the dataset into a pandas dataframe."
   ]
  },
  {
   "cell_type": "code",
   "execution_count": 37,
   "id": "e25b8671",
   "metadata": {
    "scrolled": true
   },
   "outputs": [
    {
     "data": {
      "text/html": [
       "<div>\n",
       "<style scoped>\n",
       "    .dataframe tbody tr th:only-of-type {\n",
       "        vertical-align: middle;\n",
       "    }\n",
       "\n",
       "    .dataframe tbody tr th {\n",
       "        vertical-align: top;\n",
       "    }\n",
       "\n",
       "    .dataframe thead th {\n",
       "        text-align: right;\n",
       "    }\n",
       "</style>\n",
       "<table border=\"1\" class=\"dataframe\">\n",
       "  <thead>\n",
       "    <tr style=\"text-align: right;\">\n",
       "      <th></th>\n",
       "      <th>Cement</th>\n",
       "      <th>Blast Furnace Slag</th>\n",
       "      <th>Fly Ash</th>\n",
       "      <th>Water</th>\n",
       "      <th>Superplasticizer</th>\n",
       "      <th>Coarse Aggregate</th>\n",
       "      <th>Fine Aggregate</th>\n",
       "      <th>Age</th>\n",
       "      <th>Strength</th>\n",
       "    </tr>\n",
       "  </thead>\n",
       "  <tbody>\n",
       "    <tr>\n",
       "      <th>0</th>\n",
       "      <td>540.0</td>\n",
       "      <td>0.0</td>\n",
       "      <td>0.0</td>\n",
       "      <td>162.0</td>\n",
       "      <td>2.5</td>\n",
       "      <td>1040.0</td>\n",
       "      <td>676.0</td>\n",
       "      <td>28</td>\n",
       "      <td>79.99</td>\n",
       "    </tr>\n",
       "    <tr>\n",
       "      <th>1</th>\n",
       "      <td>540.0</td>\n",
       "      <td>0.0</td>\n",
       "      <td>0.0</td>\n",
       "      <td>162.0</td>\n",
       "      <td>2.5</td>\n",
       "      <td>1055.0</td>\n",
       "      <td>676.0</td>\n",
       "      <td>28</td>\n",
       "      <td>61.89</td>\n",
       "    </tr>\n",
       "    <tr>\n",
       "      <th>2</th>\n",
       "      <td>332.5</td>\n",
       "      <td>142.5</td>\n",
       "      <td>0.0</td>\n",
       "      <td>228.0</td>\n",
       "      <td>0.0</td>\n",
       "      <td>932.0</td>\n",
       "      <td>594.0</td>\n",
       "      <td>270</td>\n",
       "      <td>40.27</td>\n",
       "    </tr>\n",
       "    <tr>\n",
       "      <th>3</th>\n",
       "      <td>332.5</td>\n",
       "      <td>142.5</td>\n",
       "      <td>0.0</td>\n",
       "      <td>228.0</td>\n",
       "      <td>0.0</td>\n",
       "      <td>932.0</td>\n",
       "      <td>594.0</td>\n",
       "      <td>365</td>\n",
       "      <td>41.05</td>\n",
       "    </tr>\n",
       "    <tr>\n",
       "      <th>4</th>\n",
       "      <td>198.6</td>\n",
       "      <td>132.4</td>\n",
       "      <td>0.0</td>\n",
       "      <td>192.0</td>\n",
       "      <td>0.0</td>\n",
       "      <td>978.4</td>\n",
       "      <td>825.5</td>\n",
       "      <td>360</td>\n",
       "      <td>44.30</td>\n",
       "    </tr>\n",
       "  </tbody>\n",
       "</table>\n",
       "</div>"
      ],
      "text/plain": [
       "   Cement  Blast Furnace Slag  Fly Ash  Water  Superplasticizer  \\\n",
       "0   540.0                 0.0      0.0  162.0               2.5   \n",
       "1   540.0                 0.0      0.0  162.0               2.5   \n",
       "2   332.5               142.5      0.0  228.0               0.0   \n",
       "3   332.5               142.5      0.0  228.0               0.0   \n",
       "4   198.6               132.4      0.0  192.0               0.0   \n",
       "\n",
       "   Coarse Aggregate  Fine Aggregate  Age  Strength  \n",
       "0            1040.0           676.0   28     79.99  \n",
       "1            1055.0           676.0   28     61.89  \n",
       "2             932.0           594.0  270     40.27  \n",
       "3             932.0           594.0  365     41.05  \n",
       "4             978.4           825.5  360     44.30  "
      ]
     },
     "execution_count": 37,
     "metadata": {},
     "output_type": "execute_result"
    }
   ],
   "source": [
    "concrete_data = pd.read_csv(\"C:/Users/hp/Downloads/concrete_data.csv\")\n",
    "concrete_data.head()"
   ]
  },
  {
   "cell_type": "markdown",
   "id": "c1269afa",
   "metadata": {},
   "source": [
    "Lets check how many data points we have"
   ]
  },
  {
   "cell_type": "code",
   "execution_count": 38,
   "id": "9368c7a6",
   "metadata": {},
   "outputs": [
    {
     "data": {
      "text/plain": [
       "(1030, 9)"
      ]
     },
     "execution_count": 38,
     "metadata": {},
     "output_type": "execute_result"
    }
   ],
   "source": [
    "concrete_data.shape"
   ]
  },
  {
   "cell_type": "markdown",
   "id": "7b87eac8",
   "metadata": {},
   "source": [
    "Lets use describe function to get the statistics of the data "
   ]
  },
  {
   "cell_type": "code",
   "execution_count": 39,
   "id": "f97f01be",
   "metadata": {},
   "outputs": [
    {
     "data": {
      "text/html": [
       "<div>\n",
       "<style scoped>\n",
       "    .dataframe tbody tr th:only-of-type {\n",
       "        vertical-align: middle;\n",
       "    }\n",
       "\n",
       "    .dataframe tbody tr th {\n",
       "        vertical-align: top;\n",
       "    }\n",
       "\n",
       "    .dataframe thead th {\n",
       "        text-align: right;\n",
       "    }\n",
       "</style>\n",
       "<table border=\"1\" class=\"dataframe\">\n",
       "  <thead>\n",
       "    <tr style=\"text-align: right;\">\n",
       "      <th></th>\n",
       "      <th>Cement</th>\n",
       "      <th>Blast Furnace Slag</th>\n",
       "      <th>Fly Ash</th>\n",
       "      <th>Water</th>\n",
       "      <th>Superplasticizer</th>\n",
       "      <th>Coarse Aggregate</th>\n",
       "      <th>Fine Aggregate</th>\n",
       "      <th>Age</th>\n",
       "      <th>Strength</th>\n",
       "    </tr>\n",
       "  </thead>\n",
       "  <tbody>\n",
       "    <tr>\n",
       "      <th>count</th>\n",
       "      <td>1030.000000</td>\n",
       "      <td>1030.000000</td>\n",
       "      <td>1030.000000</td>\n",
       "      <td>1030.000000</td>\n",
       "      <td>1030.000000</td>\n",
       "      <td>1030.000000</td>\n",
       "      <td>1030.000000</td>\n",
       "      <td>1030.000000</td>\n",
       "      <td>1030.000000</td>\n",
       "    </tr>\n",
       "    <tr>\n",
       "      <th>mean</th>\n",
       "      <td>281.167864</td>\n",
       "      <td>73.895825</td>\n",
       "      <td>54.188350</td>\n",
       "      <td>181.567282</td>\n",
       "      <td>6.204660</td>\n",
       "      <td>972.918932</td>\n",
       "      <td>773.580485</td>\n",
       "      <td>45.662136</td>\n",
       "      <td>35.817961</td>\n",
       "    </tr>\n",
       "    <tr>\n",
       "      <th>std</th>\n",
       "      <td>104.506364</td>\n",
       "      <td>86.279342</td>\n",
       "      <td>63.997004</td>\n",
       "      <td>21.354219</td>\n",
       "      <td>5.973841</td>\n",
       "      <td>77.753954</td>\n",
       "      <td>80.175980</td>\n",
       "      <td>63.169912</td>\n",
       "      <td>16.705742</td>\n",
       "    </tr>\n",
       "    <tr>\n",
       "      <th>min</th>\n",
       "      <td>102.000000</td>\n",
       "      <td>0.000000</td>\n",
       "      <td>0.000000</td>\n",
       "      <td>121.800000</td>\n",
       "      <td>0.000000</td>\n",
       "      <td>801.000000</td>\n",
       "      <td>594.000000</td>\n",
       "      <td>1.000000</td>\n",
       "      <td>2.330000</td>\n",
       "    </tr>\n",
       "    <tr>\n",
       "      <th>25%</th>\n",
       "      <td>192.375000</td>\n",
       "      <td>0.000000</td>\n",
       "      <td>0.000000</td>\n",
       "      <td>164.900000</td>\n",
       "      <td>0.000000</td>\n",
       "      <td>932.000000</td>\n",
       "      <td>730.950000</td>\n",
       "      <td>7.000000</td>\n",
       "      <td>23.710000</td>\n",
       "    </tr>\n",
       "    <tr>\n",
       "      <th>50%</th>\n",
       "      <td>272.900000</td>\n",
       "      <td>22.000000</td>\n",
       "      <td>0.000000</td>\n",
       "      <td>185.000000</td>\n",
       "      <td>6.400000</td>\n",
       "      <td>968.000000</td>\n",
       "      <td>779.500000</td>\n",
       "      <td>28.000000</td>\n",
       "      <td>34.445000</td>\n",
       "    </tr>\n",
       "    <tr>\n",
       "      <th>75%</th>\n",
       "      <td>350.000000</td>\n",
       "      <td>142.950000</td>\n",
       "      <td>118.300000</td>\n",
       "      <td>192.000000</td>\n",
       "      <td>10.200000</td>\n",
       "      <td>1029.400000</td>\n",
       "      <td>824.000000</td>\n",
       "      <td>56.000000</td>\n",
       "      <td>46.135000</td>\n",
       "    </tr>\n",
       "    <tr>\n",
       "      <th>max</th>\n",
       "      <td>540.000000</td>\n",
       "      <td>359.400000</td>\n",
       "      <td>200.100000</td>\n",
       "      <td>247.000000</td>\n",
       "      <td>32.200000</td>\n",
       "      <td>1145.000000</td>\n",
       "      <td>992.600000</td>\n",
       "      <td>365.000000</td>\n",
       "      <td>82.600000</td>\n",
       "    </tr>\n",
       "  </tbody>\n",
       "</table>\n",
       "</div>"
      ],
      "text/plain": [
       "            Cement  Blast Furnace Slag      Fly Ash        Water  \\\n",
       "count  1030.000000         1030.000000  1030.000000  1030.000000   \n",
       "mean    281.167864           73.895825    54.188350   181.567282   \n",
       "std     104.506364           86.279342    63.997004    21.354219   \n",
       "min     102.000000            0.000000     0.000000   121.800000   \n",
       "25%     192.375000            0.000000     0.000000   164.900000   \n",
       "50%     272.900000           22.000000     0.000000   185.000000   \n",
       "75%     350.000000          142.950000   118.300000   192.000000   \n",
       "max     540.000000          359.400000   200.100000   247.000000   \n",
       "\n",
       "       Superplasticizer  Coarse Aggregate  Fine Aggregate          Age  \\\n",
       "count       1030.000000       1030.000000     1030.000000  1030.000000   \n",
       "mean           6.204660        972.918932      773.580485    45.662136   \n",
       "std            5.973841         77.753954       80.175980    63.169912   \n",
       "min            0.000000        801.000000      594.000000     1.000000   \n",
       "25%            0.000000        932.000000      730.950000     7.000000   \n",
       "50%            6.400000        968.000000      779.500000    28.000000   \n",
       "75%           10.200000       1029.400000      824.000000    56.000000   \n",
       "max           32.200000       1145.000000      992.600000   365.000000   \n",
       "\n",
       "          Strength  \n",
       "count  1030.000000  \n",
       "mean     35.817961  \n",
       "std      16.705742  \n",
       "min       2.330000  \n",
       "25%      23.710000  \n",
       "50%      34.445000  \n",
       "75%      46.135000  \n",
       "max      82.600000  "
      ]
     },
     "execution_count": 39,
     "metadata": {},
     "output_type": "execute_result"
    }
   ],
   "source": [
    "concrete_data.describe()"
   ]
  },
  {
   "cell_type": "markdown",
   "id": "c64c479d",
   "metadata": {},
   "source": [
    "Lets check if the data contains any missing values in the dataset"
   ]
  },
  {
   "cell_type": "code",
   "execution_count": 40,
   "id": "7cf28cf7",
   "metadata": {
    "scrolled": false
   },
   "outputs": [
    {
     "data": {
      "text/plain": [
       "Cement                0\n",
       "Blast Furnace Slag    0\n",
       "Fly Ash               0\n",
       "Water                 0\n",
       "Superplasticizer      0\n",
       "Coarse Aggregate      0\n",
       "Fine Aggregate        0\n",
       "Age                   0\n",
       "Strength              0\n",
       "dtype: int64"
      ]
     },
     "execution_count": 40,
     "metadata": {},
     "output_type": "execute_result"
    }
   ],
   "source": [
    "concrete_data.isnull().sum()"
   ]
  },
  {
   "cell_type": "markdown",
   "id": "b6ae0177",
   "metadata": {},
   "source": [
    "The data does not contain any Missing values So we are ready to build the model"
   ]
  },
  {
   "cell_type": "markdown",
   "id": "e7bc7b8e",
   "metadata": {},
   "source": [
    "## Spliting the data into predictor and Target"
   ]
  },
  {
   "cell_type": "markdown",
   "id": "5bc75e60",
   "metadata": {},
   "source": [
    "The target variable in this problem is the concrete sample strength. Therefore, our predictors will be all the other columns."
   ]
  },
  {
   "cell_type": "code",
   "execution_count": 41,
   "id": "b8989ea2",
   "metadata": {},
   "outputs": [],
   "source": [
    "concrete_data_columns = concrete_data.columns\n",
    "predictors = concrete_data[concrete_data_columns[concrete_data_columns != 'Strength']] # all columns except Strength\n",
    "target = concrete_data['Strength'] "
   ]
  },
  {
   "cell_type": "markdown",
   "id": "116dc592",
   "metadata": {},
   "source": [
    "Describing the predictors"
   ]
  },
  {
   "cell_type": "code",
   "execution_count": 42,
   "id": "4e57b117",
   "metadata": {
    "scrolled": false
   },
   "outputs": [
    {
     "data": {
      "text/html": [
       "<div>\n",
       "<style scoped>\n",
       "    .dataframe tbody tr th:only-of-type {\n",
       "        vertical-align: middle;\n",
       "    }\n",
       "\n",
       "    .dataframe tbody tr th {\n",
       "        vertical-align: top;\n",
       "    }\n",
       "\n",
       "    .dataframe thead th {\n",
       "        text-align: right;\n",
       "    }\n",
       "</style>\n",
       "<table border=\"1\" class=\"dataframe\">\n",
       "  <thead>\n",
       "    <tr style=\"text-align: right;\">\n",
       "      <th></th>\n",
       "      <th>Cement</th>\n",
       "      <th>Blast Furnace Slag</th>\n",
       "      <th>Fly Ash</th>\n",
       "      <th>Water</th>\n",
       "      <th>Superplasticizer</th>\n",
       "      <th>Coarse Aggregate</th>\n",
       "      <th>Fine Aggregate</th>\n",
       "      <th>Age</th>\n",
       "    </tr>\n",
       "  </thead>\n",
       "  <tbody>\n",
       "    <tr>\n",
       "      <th>0</th>\n",
       "      <td>540.0</td>\n",
       "      <td>0.0</td>\n",
       "      <td>0.0</td>\n",
       "      <td>162.0</td>\n",
       "      <td>2.5</td>\n",
       "      <td>1040.0</td>\n",
       "      <td>676.0</td>\n",
       "      <td>28</td>\n",
       "    </tr>\n",
       "    <tr>\n",
       "      <th>1</th>\n",
       "      <td>540.0</td>\n",
       "      <td>0.0</td>\n",
       "      <td>0.0</td>\n",
       "      <td>162.0</td>\n",
       "      <td>2.5</td>\n",
       "      <td>1055.0</td>\n",
       "      <td>676.0</td>\n",
       "      <td>28</td>\n",
       "    </tr>\n",
       "    <tr>\n",
       "      <th>2</th>\n",
       "      <td>332.5</td>\n",
       "      <td>142.5</td>\n",
       "      <td>0.0</td>\n",
       "      <td>228.0</td>\n",
       "      <td>0.0</td>\n",
       "      <td>932.0</td>\n",
       "      <td>594.0</td>\n",
       "      <td>270</td>\n",
       "    </tr>\n",
       "    <tr>\n",
       "      <th>3</th>\n",
       "      <td>332.5</td>\n",
       "      <td>142.5</td>\n",
       "      <td>0.0</td>\n",
       "      <td>228.0</td>\n",
       "      <td>0.0</td>\n",
       "      <td>932.0</td>\n",
       "      <td>594.0</td>\n",
       "      <td>365</td>\n",
       "    </tr>\n",
       "    <tr>\n",
       "      <th>4</th>\n",
       "      <td>198.6</td>\n",
       "      <td>132.4</td>\n",
       "      <td>0.0</td>\n",
       "      <td>192.0</td>\n",
       "      <td>0.0</td>\n",
       "      <td>978.4</td>\n",
       "      <td>825.5</td>\n",
       "      <td>360</td>\n",
       "    </tr>\n",
       "  </tbody>\n",
       "</table>\n",
       "</div>"
      ],
      "text/plain": [
       "   Cement  Blast Furnace Slag  Fly Ash  Water  Superplasticizer  \\\n",
       "0   540.0                 0.0      0.0  162.0               2.5   \n",
       "1   540.0                 0.0      0.0  162.0               2.5   \n",
       "2   332.5               142.5      0.0  228.0               0.0   \n",
       "3   332.5               142.5      0.0  228.0               0.0   \n",
       "4   198.6               132.4      0.0  192.0               0.0   \n",
       "\n",
       "   Coarse Aggregate  Fine Aggregate  Age  \n",
       "0            1040.0           676.0   28  \n",
       "1            1055.0           676.0   28  \n",
       "2             932.0           594.0  270  \n",
       "3             932.0           594.0  365  \n",
       "4             978.4           825.5  360  "
      ]
     },
     "execution_count": 42,
     "metadata": {},
     "output_type": "execute_result"
    }
   ],
   "source": [
    "predictors.head()"
   ]
  },
  {
   "cell_type": "markdown",
   "id": "436440bc",
   "metadata": {},
   "source": [
    "Decribing the target "
   ]
  },
  {
   "cell_type": "code",
   "execution_count": 43,
   "id": "ebee7f36",
   "metadata": {
    "scrolled": true
   },
   "outputs": [
    {
     "data": {
      "text/plain": [
       "0    79.99\n",
       "1    61.89\n",
       "2    40.27\n",
       "3    41.05\n",
       "4    44.30\n",
       "Name: Strength, dtype: float64"
      ]
     },
     "execution_count": 43,
     "metadata": {},
     "output_type": "execute_result"
    }
   ],
   "source": [
    "target.head()"
   ]
  },
  {
   "cell_type": "markdown",
   "id": "c1d4f38b",
   "metadata": {},
   "source": [
    "Normalizing the Predictors"
   ]
  },
  {
   "cell_type": "code",
   "execution_count": 44,
   "id": "df62358d",
   "metadata": {
    "scrolled": true
   },
   "outputs": [
    {
     "data": {
      "text/html": [
       "<div>\n",
       "<style scoped>\n",
       "    .dataframe tbody tr th:only-of-type {\n",
       "        vertical-align: middle;\n",
       "    }\n",
       "\n",
       "    .dataframe tbody tr th {\n",
       "        vertical-align: top;\n",
       "    }\n",
       "\n",
       "    .dataframe thead th {\n",
       "        text-align: right;\n",
       "    }\n",
       "</style>\n",
       "<table border=\"1\" class=\"dataframe\">\n",
       "  <thead>\n",
       "    <tr style=\"text-align: right;\">\n",
       "      <th></th>\n",
       "      <th>Cement</th>\n",
       "      <th>Blast Furnace Slag</th>\n",
       "      <th>Fly Ash</th>\n",
       "      <th>Water</th>\n",
       "      <th>Superplasticizer</th>\n",
       "      <th>Coarse Aggregate</th>\n",
       "      <th>Fine Aggregate</th>\n",
       "      <th>Age</th>\n",
       "    </tr>\n",
       "  </thead>\n",
       "  <tbody>\n",
       "    <tr>\n",
       "      <th>0</th>\n",
       "      <td>2.476712</td>\n",
       "      <td>-0.856472</td>\n",
       "      <td>-0.846733</td>\n",
       "      <td>-0.916319</td>\n",
       "      <td>-0.620147</td>\n",
       "      <td>0.862735</td>\n",
       "      <td>-1.217079</td>\n",
       "      <td>-0.279597</td>\n",
       "    </tr>\n",
       "    <tr>\n",
       "      <th>1</th>\n",
       "      <td>2.476712</td>\n",
       "      <td>-0.856472</td>\n",
       "      <td>-0.846733</td>\n",
       "      <td>-0.916319</td>\n",
       "      <td>-0.620147</td>\n",
       "      <td>1.055651</td>\n",
       "      <td>-1.217079</td>\n",
       "      <td>-0.279597</td>\n",
       "    </tr>\n",
       "    <tr>\n",
       "      <th>2</th>\n",
       "      <td>0.491187</td>\n",
       "      <td>0.795140</td>\n",
       "      <td>-0.846733</td>\n",
       "      <td>2.174405</td>\n",
       "      <td>-1.038638</td>\n",
       "      <td>-0.526262</td>\n",
       "      <td>-2.239829</td>\n",
       "      <td>3.551340</td>\n",
       "    </tr>\n",
       "    <tr>\n",
       "      <th>3</th>\n",
       "      <td>0.491187</td>\n",
       "      <td>0.795140</td>\n",
       "      <td>-0.846733</td>\n",
       "      <td>2.174405</td>\n",
       "      <td>-1.038638</td>\n",
       "      <td>-0.526262</td>\n",
       "      <td>-2.239829</td>\n",
       "      <td>5.055221</td>\n",
       "    </tr>\n",
       "    <tr>\n",
       "      <th>4</th>\n",
       "      <td>-0.790075</td>\n",
       "      <td>0.678079</td>\n",
       "      <td>-0.846733</td>\n",
       "      <td>0.488555</td>\n",
       "      <td>-1.038638</td>\n",
       "      <td>0.070492</td>\n",
       "      <td>0.647569</td>\n",
       "      <td>4.976069</td>\n",
       "    </tr>\n",
       "  </tbody>\n",
       "</table>\n",
       "</div>"
      ],
      "text/plain": [
       "     Cement  Blast Furnace Slag   Fly Ash     Water  Superplasticizer  \\\n",
       "0  2.476712           -0.856472 -0.846733 -0.916319         -0.620147   \n",
       "1  2.476712           -0.856472 -0.846733 -0.916319         -0.620147   \n",
       "2  0.491187            0.795140 -0.846733  2.174405         -1.038638   \n",
       "3  0.491187            0.795140 -0.846733  2.174405         -1.038638   \n",
       "4 -0.790075            0.678079 -0.846733  0.488555         -1.038638   \n",
       "\n",
       "   Coarse Aggregate  Fine Aggregate       Age  \n",
       "0          0.862735       -1.217079 -0.279597  \n",
       "1          1.055651       -1.217079 -0.279597  \n",
       "2         -0.526262       -2.239829  3.551340  \n",
       "3         -0.526262       -2.239829  5.055221  \n",
       "4          0.070492        0.647569  4.976069  "
      ]
     },
     "execution_count": 44,
     "metadata": {},
     "output_type": "execute_result"
    }
   ],
   "source": [
    "predictors_norm = (predictors - predictors.mean()) / predictors.std()\n",
    "predictors_norm.head()"
   ]
  },
  {
   "cell_type": "markdown",
   "id": "33701cfb",
   "metadata": {},
   "source": [
    "Knowing the number of predictors"
   ]
  },
  {
   "cell_type": "code",
   "execution_count": 45,
   "id": "497f8533",
   "metadata": {},
   "outputs": [
    {
     "data": {
      "text/plain": [
       "8"
      ]
     },
     "execution_count": 45,
     "metadata": {},
     "output_type": "execute_result"
    }
   ],
   "source": [
    "n_cols = predictors_norm.shape[1] # number of predictors\n",
    "n_cols"
   ]
  },
  {
   "cell_type": "markdown",
   "id": "e15e21d5",
   "metadata": {},
   "source": [
    "# Import Keras"
   ]
  },
  {
   "cell_type": "code",
   "execution_count": 46,
   "id": "b0d38d75",
   "metadata": {},
   "outputs": [],
   "source": [
    "import keras"
   ]
  },
  {
   "cell_type": "markdown",
   "id": "4b1d1747",
   "metadata": {},
   "source": [
    "Lets import the Sequential and Dense Layers to create our model"
   ]
  },
  {
   "cell_type": "code",
   "execution_count": 47,
   "id": "bac3a521",
   "metadata": {},
   "outputs": [],
   "source": [
    "from keras.models import Sequential\n",
    "from keras.layers import Dense"
   ]
  },
  {
   "cell_type": "markdown",
   "id": "95dee74e",
   "metadata": {},
   "source": [
    "## Creating our model and Compiling the model"
   ]
  },
  {
   "cell_type": "markdown",
   "id": "696fbeb3",
   "metadata": {},
   "source": [
    "The above function creates a model that has one hidden layer with 10 neurons and a ReLU activation function. It uses the adam optimizer and the mean squared error as the loss function."
   ]
  },
  {
   "cell_type": "code",
   "execution_count": 48,
   "id": "56a24cd5",
   "metadata": {},
   "outputs": [],
   "source": [
    "def model():\n",
    "    model = Sequential()\n",
    "    model.add(Dense(10, activation='relu', input_shape=(n_cols,)))\n",
    "    model.add(Dense(1))\n",
    "\n",
    "    model.compile(optimizer='adam', loss='mean_squared_error')\n",
    "    return model"
   ]
  },
  {
   "cell_type": "markdown",
   "id": "76184078",
   "metadata": {},
   "source": [
    "Now As mentioned we use Scikit-learn inn order to randomly split the data into training and test set"
   ]
  },
  {
   "cell_type": "code",
   "execution_count": 49,
   "id": "4f363f19",
   "metadata": {},
   "outputs": [],
   "source": [
    "from sklearn.model_selection import train_test_split"
   ]
  },
  {
   "cell_type": "code",
   "execution_count": 50,
   "id": "d865f4a1",
   "metadata": {},
   "outputs": [],
   "source": [
    "X_train, X_test, y_train, y_test = train_test_split(predictors, target, test_size=0.3, random_state=42)"
   ]
  },
  {
   "cell_type": "markdown",
   "id": "76083229",
   "metadata": {},
   "source": [
    "## Train and Test the Network"
   ]
  },
  {
   "cell_type": "markdown",
   "id": "f341925c",
   "metadata": {},
   "source": [
    "Let's call the function now to create our model."
   ]
  },
  {
   "cell_type": "code",
   "execution_count": 51,
   "id": "b7bfbbb7",
   "metadata": {},
   "outputs": [],
   "source": [
    "model = model()"
   ]
  },
  {
   "cell_type": "markdown",
   "id": "dacf36ea",
   "metadata": {},
   "source": [
    "Now we'll train about 50 epochs"
   ]
  },
  {
   "cell_type": "code",
   "execution_count": 52,
   "id": "fe6df43b",
   "metadata": {},
   "outputs": [
    {
     "name": "stdout",
     "output_type": "stream",
     "text": [
      "Epoch 1/50\n",
      "23/23 [==============================] - 1s 10ms/step - loss: 848565.5000\n",
      "Epoch 2/50\n",
      "23/23 [==============================] - 0s 9ms/step - loss: 530028.2500\n",
      "Epoch 3/50\n",
      "23/23 [==============================] - 0s 9ms/step - loss: 305751.8438\n",
      "Epoch 4/50\n",
      "23/23 [==============================] - 0s 10ms/step - loss: 159045.4375\n",
      "Epoch 5/50\n",
      "23/23 [==============================] - 0s 8ms/step - loss: 73038.5156\n",
      "Epoch 6/50\n",
      "23/23 [==============================] - 0s 9ms/step - loss: 29250.9746\n",
      "Epoch 7/50\n",
      "23/23 [==============================] - 0s 8ms/step - loss: 10453.5732\n",
      "Epoch 8/50\n",
      "23/23 [==============================] - 0s 8ms/step - loss: 4097.3716\n",
      "Epoch 9/50\n",
      "23/23 [==============================] - 0s 8ms/step - loss: 2338.5559\n",
      "Epoch 10/50\n",
      "23/23 [==============================] - 0s 8ms/step - loss: 1990.2250\n",
      "Epoch 11/50\n",
      "23/23 [==============================] - 0s 8ms/step - loss: 1887.7706\n",
      "Epoch 12/50\n",
      "23/23 [==============================] - 0s 8ms/step - loss: 1833.0189\n",
      "Epoch 13/50\n",
      "23/23 [==============================] - 0s 8ms/step - loss: 1782.7112\n",
      "Epoch 14/50\n",
      "23/23 [==============================] - 0s 9ms/step - loss: 1731.1443\n",
      "Epoch 15/50\n",
      "23/23 [==============================] - 0s 9ms/step - loss: 1681.7017\n",
      "Epoch 16/50\n",
      "23/23 [==============================] - 0s 9ms/step - loss: 1630.2854\n",
      "Epoch 17/50\n",
      "23/23 [==============================] - 0s 8ms/step - loss: 1580.8270\n",
      "Epoch 18/50\n",
      "23/23 [==============================] - 0s 8ms/step - loss: 1531.5763\n",
      "Epoch 19/50\n",
      "23/23 [==============================] - 0s 8ms/step - loss: 1481.3683\n",
      "Epoch 20/50\n",
      "23/23 [==============================] - 0s 8ms/step - loss: 1434.6064\n",
      "Epoch 21/50\n",
      "23/23 [==============================] - 0s 9ms/step - loss: 1388.3439\n",
      "Epoch 22/50\n",
      "23/23 [==============================] - 0s 9ms/step - loss: 1342.0558\n",
      "Epoch 23/50\n",
      "23/23 [==============================] - 0s 8ms/step - loss: 1296.0387\n",
      "Epoch 24/50\n",
      "23/23 [==============================] - 0s 9ms/step - loss: 1251.1812\n",
      "Epoch 25/50\n",
      "23/23 [==============================] - 0s 8ms/step - loss: 1207.4998\n",
      "Epoch 26/50\n",
      "23/23 [==============================] - 0s 8ms/step - loss: 1165.9531\n",
      "Epoch 27/50\n",
      "23/23 [==============================] - 0s 7ms/step - loss: 1126.4142\n",
      "Epoch 28/50\n",
      "23/23 [==============================] - 0s 8ms/step - loss: 1085.9958\n",
      "Epoch 29/50\n",
      "23/23 [==============================] - 0s 8ms/step - loss: 1047.6622\n",
      "Epoch 30/50\n",
      "23/23 [==============================] - 0s 8ms/step - loss: 1010.7756\n",
      "Epoch 31/50\n",
      "23/23 [==============================] - 0s 8ms/step - loss: 975.4000\n",
      "Epoch 32/50\n",
      "23/23 [==============================] - 0s 8ms/step - loss: 941.9953\n",
      "Epoch 33/50\n",
      "23/23 [==============================] - 0s 9ms/step - loss: 911.1779\n",
      "Epoch 34/50\n",
      "23/23 [==============================] - 0s 8ms/step - loss: 876.2908\n",
      "Epoch 35/50\n",
      "23/23 [==============================] - 0s 8ms/step - loss: 846.4096\n",
      "Epoch 36/50\n",
      "23/23 [==============================] - 0s 7ms/step - loss: 817.0841\n",
      "Epoch 37/50\n",
      "23/23 [==============================] - 0s 7ms/step - loss: 787.9231\n",
      "Epoch 38/50\n",
      "23/23 [==============================] - 0s 8ms/step - loss: 761.6341\n",
      "Epoch 39/50\n",
      "23/23 [==============================] - 0s 8ms/step - loss: 736.7788\n",
      "Epoch 40/50\n",
      "23/23 [==============================] - 0s 8ms/step - loss: 712.0204\n",
      "Epoch 41/50\n",
      "23/23 [==============================] - 0s 9ms/step - loss: 687.0783\n",
      "Epoch 42/50\n",
      "23/23 [==============================] - 0s 7ms/step - loss: 664.9546\n",
      "Epoch 43/50\n",
      "23/23 [==============================] - 0s 9ms/step - loss: 642.5830\n",
      "Epoch 44/50\n",
      "23/23 [==============================] - 0s 9ms/step - loss: 622.4023\n",
      "Epoch 45/50\n",
      "23/23 [==============================] - 0s 8ms/step - loss: 602.3141\n",
      "Epoch 46/50\n",
      "23/23 [==============================] - 0s 9ms/step - loss: 583.2794\n",
      "Epoch 47/50\n",
      "23/23 [==============================] - 0s 8ms/step - loss: 565.0305\n",
      "Epoch 48/50\n",
      "23/23 [==============================] - 0s 8ms/step - loss: 549.2724\n",
      "Epoch 49/50\n",
      "23/23 [==============================] - 0s 9ms/step - loss: 533.4005\n",
      "Epoch 50/50\n",
      "23/23 [==============================] - 0s 9ms/step - loss: 515.1046\n"
     ]
    },
    {
     "data": {
      "text/plain": [
       "<keras.callbacks.History at 0x250b4a19c30>"
      ]
     },
     "execution_count": 52,
     "metadata": {},
     "output_type": "execute_result"
    }
   ],
   "source": [
    "epochs=50\n",
    "model.fit(X_train,y_train,epochs=epochs,verbose=1)"
   ]
  },
  {
   "cell_type": "markdown",
   "id": "0d0b8620",
   "metadata": {},
   "source": [
    "Next we need to evaluate the model on the test data."
   ]
  },
  {
   "cell_type": "code",
   "execution_count": 53,
   "id": "f34899a0",
   "metadata": {},
   "outputs": [
    {
     "name": "stdout",
     "output_type": "stream",
     "text": [
      "10/10 [==============================] - 0s 7ms/step - loss: 504.9946\n",
      "10/10 [==============================] - 0s 6ms/step\n"
     ]
    },
    {
     "data": {
      "text/plain": [
       "504.9945983886719"
      ]
     },
     "execution_count": 53,
     "metadata": {},
     "output_type": "execute_result"
    }
   ],
   "source": [
    "loss_val = model.evaluate(X_test, y_test)\n",
    "y_pred = model.predict(X_test)\n",
    "loss_val"
   ]
  },
  {
   "cell_type": "markdown",
   "id": "42d3180f",
   "metadata": {},
   "source": [
    "Now we need to compute the mean squared error between the predicted concrete strength and the actual concrete strength."
   ]
  },
  {
   "cell_type": "code",
   "execution_count": 54,
   "id": "18042276",
   "metadata": {},
   "outputs": [],
   "source": [
    "from sklearn.metrics import mean_squared_error"
   ]
  },
  {
   "cell_type": "code",
   "execution_count": 55,
   "id": "9a07fdc6",
   "metadata": {},
   "outputs": [
    {
     "name": "stdout",
     "output_type": "stream",
     "text": [
      "504.9946219278907 0.0\n"
     ]
    }
   ],
   "source": [
    "mean_square_error = mean_squared_error(y_test, y_pred)\n",
    "mean = np.mean(mean_square_error)\n",
    "standard_deviation = np.std(mean_square_error)\n",
    "print(mean, standard_deviation)"
   ]
  },
  {
   "cell_type": "markdown",
   "id": "cac4d00f",
   "metadata": {},
   "source": [
    "Create a list of 50 mean squared errors and report mean and the standard deviation of the mean squared errors."
   ]
  },
  {
   "cell_type": "code",
   "execution_count": null,
   "id": "82542aaf",
   "metadata": {},
   "outputs": [
    {
     "name": "stdout",
     "output_type": "stream",
     "text": [
      "MSE 1: 217.55230712890625\n",
      "10/10 [==============================] - 0s 5ms/step\n",
      "MSE 2: 171.79225158691406\n",
      "10/10 [==============================] - 0s 5ms/step\n",
      "MSE 3: 116.91492462158203\n",
      "10/10 [==============================] - 0s 4ms/step\n",
      "MSE 4: 117.08979034423828\n",
      "10/10 [==============================] - 0s 4ms/step\n",
      "MSE 5: 116.7727279663086\n",
      "10/10 [==============================] - 0s 5ms/step\n",
      "MSE 6: 93.5916748046875\n",
      "10/10 [==============================] - 0s 5ms/step\n",
      "MSE 7: 102.82447052001953\n",
      "10/10 [==============================] - 0s 6ms/step\n",
      "MSE 8: 81.08439636230469\n",
      "10/10 [==============================] - 0s 5ms/step\n",
      "MSE 9: 87.00141143798828\n",
      "10/10 [==============================] - 0s 6ms/step\n",
      "MSE 10: 75.576416015625\n",
      "10/10 [==============================] - 0s 5ms/step\n",
      "MSE 11: 76.06765747070312\n",
      "10/10 [==============================] - 0s 4ms/step\n",
      "MSE 12: 56.01353454589844\n",
      "10/10 [==============================] - 0s 5ms/step\n",
      "MSE 13: 59.104129791259766\n",
      "10/10 [==============================] - 0s 6ms/step\n",
      "MSE 14: 55.396446228027344\n",
      "10/10 [==============================] - 0s 5ms/step\n",
      "MSE 15: 50.9366340637207\n",
      "10/10 [==============================] - 0s 5ms/step\n",
      "MSE 16: 55.96770095825195\n",
      "10/10 [==============================] - 0s 4ms/step\n",
      "MSE 17: 48.884254455566406\n",
      "10/10 [==============================] - 0s 7ms/step\n",
      "MSE 18: 52.959049224853516\n",
      "10/10 [==============================] - 0s 6ms/step\n",
      "MSE 19: 48.4449577331543\n",
      "10/10 [==============================] - 0s 8ms/step\n",
      "MSE 20: 53.68843078613281\n",
      "10/10 [==============================] - 0s 5ms/step\n",
      "MSE 21: 43.49403762817383\n",
      "10/10 [==============================] - 0s 5ms/step\n",
      "MSE 22: 45.845890045166016\n",
      "10/10 [==============================] - 0s 5ms/step\n",
      "MSE 23: 49.471561431884766\n",
      "10/10 [==============================] - 0s 5ms/step\n",
      "MSE 24: 47.83351516723633\n",
      "10/10 [==============================] - 0s 5ms/step\n",
      "MSE 25: 60.662330627441406\n",
      "10/10 [==============================] - 0s 5ms/step\n",
      "MSE 26: 49.36996078491211\n",
      "10/10 [==============================] - 0s 5ms/step\n",
      "MSE 27: 54.68592071533203\n",
      "10/10 [==============================] - 0s 5ms/step\n",
      "MSE 28: 51.46609878540039\n",
      "10/10 [==============================] - 0s 7ms/step\n",
      "MSE 29: 52.55145263671875\n",
      "10/10 [==============================] - 0s 8ms/step\n",
      "MSE 30: 51.30960464477539\n",
      "10/10 [==============================] - 0s 5ms/step\n",
      "MSE 31: 58.97365951538086\n",
      "10/10 [==============================] - 0s 5ms/step\n",
      "MSE 32: 43.20169448852539\n",
      "10/10 [==============================] - 0s 4ms/step\n",
      "MSE 33: 48.53458023071289\n",
      "10/10 [==============================] - 0s 6ms/step\n",
      "MSE 34: 49.4242057800293\n",
      "10/10 [==============================] - 0s 5ms/step\n",
      "MSE 35: 47.03175735473633\n",
      "10/10 [==============================] - 0s 5ms/step\n",
      "MSE 36: 52.98643493652344\n",
      "10/10 [==============================] - 0s 5ms/step\n",
      "MSE 37: 55.064144134521484\n",
      "10/10 [==============================] - 0s 5ms/step\n",
      "MSE 38: 53.05228042602539\n",
      "10/10 [==============================] - 0s 5ms/step\n",
      "MSE 39: 49.441856384277344\n",
      "10/10 [==============================] - 0s 5ms/step\n",
      "MSE 40: 52.664981842041016\n",
      "10/10 [==============================] - 0s 5ms/step\n",
      "MSE 41: 55.44783401489258\n",
      "10/10 [==============================] - 0s 11ms/step\n",
      "MSE 42: 45.74123001098633\n",
      "10/10 [==============================] - 0s 5ms/step\n",
      "MSE 43: 59.404563903808594\n",
      "10/10 [==============================] - 0s 5ms/step\n",
      "MSE 44: 53.810096740722656\n",
      "10/10 [==============================] - 0s 6ms/step\n"
     ]
    }
   ],
   "source": [
    "total_mean_squared_errors = 50\n",
    "epochs = 50\n",
    "mean_squared_errors = []\n",
    "for i in range(0, total_mean_squared_errors):\n",
    "    X_train, X_test, y_train, y_test = train_test_split(predictors, target, test_size=0.3, random_state=i)\n",
    "    model.fit(X_train, y_train, epochs=epochs, verbose=0)\n",
    "    MSE = model.evaluate(X_test, y_test, verbose=0)\n",
    "    print(\"MSE \"+str(i+1)+\": \"+str(MSE))\n",
    "    y_pred = model.predict(X_test)\n",
    "    mean_square_error = mean_squared_error(y_test, y_pred)\n",
    "    mean_squared_errors.append(mean_square_error)\n",
    "\n",
    "mean_squared_errors = np.array(mean_squared_errors)\n",
    "mean = np.mean(mean_squared_errors)\n",
    "standard_deviation = np.std(mean_squared_errors)\n",
    "\n",
    "print('\\n')\n",
    "print(\"Below is the mean and standard deviation of \" +str(total_mean_squared_errors) + \" mean squared errors without normalized data. Total number of epochs for each training is: \" +str(epochs) + \"\\n\")\n",
    "print(\"Mean: \"+str(mean))\n",
    "print(\"Standard Deviation: \"+str(standard_deviation))"
   ]
  }
 ],
 "metadata": {
  "kernelspec": {
   "display_name": "Python 3 (ipykernel)",
   "language": "python",
   "name": "python3"
  },
  "language_info": {
   "codemirror_mode": {
    "name": "ipython",
    "version": 3
   },
   "file_extension": ".py",
   "mimetype": "text/x-python",
   "name": "python",
   "nbconvert_exporter": "python",
   "pygments_lexer": "ipython3",
   "version": "3.10.4"
  }
 },
 "nbformat": 4,
 "nbformat_minor": 5
}
