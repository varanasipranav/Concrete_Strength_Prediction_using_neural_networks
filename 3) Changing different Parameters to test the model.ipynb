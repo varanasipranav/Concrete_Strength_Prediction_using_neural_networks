{
 "cells": [
  {
   "cell_type": "markdown",
   "id": "4b89e990",
   "metadata": {},
   "source": [
    "# Importing datasets and necesarry Libraries"
   ]
  },
  {
   "cell_type": "markdown",
   "id": "906c00f5",
   "metadata": {},
   "source": [
    "Lets import pandas and Numpy Libraries"
   ]
  },
  {
   "cell_type": "code",
   "execution_count": 57,
   "id": "97eeba7f",
   "metadata": {},
   "outputs": [],
   "source": [
    "import pandas as pd\n",
    "import numpy as np"
   ]
  },
  {
   "cell_type": "markdown",
   "id": "2d0f831b",
   "metadata": {},
   "source": [
    "We will be using the dataset provided in the assignment\n",
    "\n",
    "The dataset is about the compressive strength of different samples of concrete based on the volumes of the different ingredients that were used to make them. Ingredients include:\n",
    "\n",
    "1. Cement\n",
    "\n",
    "2. Blast Furnace Slag\n",
    "\n",
    "3. Fly Ash\n",
    "\n",
    "4. Water\n",
    "\n",
    "5. Superplasticizer\n",
    "\n",
    "6. Coarse Aggregate\n",
    "\n",
    "7. Fine Aggregate\n",
    "\n",
    "Let's read the dataset into a pandas dataframe."
   ]
  },
  {
   "cell_type": "code",
   "execution_count": 58,
   "id": "a3dd7760",
   "metadata": {
    "scrolled": true
   },
   "outputs": [
    {
     "data": {
      "text/html": [
       "<div>\n",
       "<style scoped>\n",
       "    .dataframe tbody tr th:only-of-type {\n",
       "        vertical-align: middle;\n",
       "    }\n",
       "\n",
       "    .dataframe tbody tr th {\n",
       "        vertical-align: top;\n",
       "    }\n",
       "\n",
       "    .dataframe thead th {\n",
       "        text-align: right;\n",
       "    }\n",
       "</style>\n",
       "<table border=\"1\" class=\"dataframe\">\n",
       "  <thead>\n",
       "    <tr style=\"text-align: right;\">\n",
       "      <th></th>\n",
       "      <th>Cement</th>\n",
       "      <th>Blast Furnace Slag</th>\n",
       "      <th>Fly Ash</th>\n",
       "      <th>Water</th>\n",
       "      <th>Superplasticizer</th>\n",
       "      <th>Coarse Aggregate</th>\n",
       "      <th>Fine Aggregate</th>\n",
       "      <th>Age</th>\n",
       "      <th>Strength</th>\n",
       "    </tr>\n",
       "  </thead>\n",
       "  <tbody>\n",
       "    <tr>\n",
       "      <th>0</th>\n",
       "      <td>540.0</td>\n",
       "      <td>0.0</td>\n",
       "      <td>0.0</td>\n",
       "      <td>162.0</td>\n",
       "      <td>2.5</td>\n",
       "      <td>1040.0</td>\n",
       "      <td>676.0</td>\n",
       "      <td>28</td>\n",
       "      <td>79.99</td>\n",
       "    </tr>\n",
       "    <tr>\n",
       "      <th>1</th>\n",
       "      <td>540.0</td>\n",
       "      <td>0.0</td>\n",
       "      <td>0.0</td>\n",
       "      <td>162.0</td>\n",
       "      <td>2.5</td>\n",
       "      <td>1055.0</td>\n",
       "      <td>676.0</td>\n",
       "      <td>28</td>\n",
       "      <td>61.89</td>\n",
       "    </tr>\n",
       "    <tr>\n",
       "      <th>2</th>\n",
       "      <td>332.5</td>\n",
       "      <td>142.5</td>\n",
       "      <td>0.0</td>\n",
       "      <td>228.0</td>\n",
       "      <td>0.0</td>\n",
       "      <td>932.0</td>\n",
       "      <td>594.0</td>\n",
       "      <td>270</td>\n",
       "      <td>40.27</td>\n",
       "    </tr>\n",
       "    <tr>\n",
       "      <th>3</th>\n",
       "      <td>332.5</td>\n",
       "      <td>142.5</td>\n",
       "      <td>0.0</td>\n",
       "      <td>228.0</td>\n",
       "      <td>0.0</td>\n",
       "      <td>932.0</td>\n",
       "      <td>594.0</td>\n",
       "      <td>365</td>\n",
       "      <td>41.05</td>\n",
       "    </tr>\n",
       "    <tr>\n",
       "      <th>4</th>\n",
       "      <td>198.6</td>\n",
       "      <td>132.4</td>\n",
       "      <td>0.0</td>\n",
       "      <td>192.0</td>\n",
       "      <td>0.0</td>\n",
       "      <td>978.4</td>\n",
       "      <td>825.5</td>\n",
       "      <td>360</td>\n",
       "      <td>44.30</td>\n",
       "    </tr>\n",
       "  </tbody>\n",
       "</table>\n",
       "</div>"
      ],
      "text/plain": [
       "   Cement  Blast Furnace Slag  Fly Ash  Water  Superplasticizer  \\\n",
       "0   540.0                 0.0      0.0  162.0               2.5   \n",
       "1   540.0                 0.0      0.0  162.0               2.5   \n",
       "2   332.5               142.5      0.0  228.0               0.0   \n",
       "3   332.5               142.5      0.0  228.0               0.0   \n",
       "4   198.6               132.4      0.0  192.0               0.0   \n",
       "\n",
       "   Coarse Aggregate  Fine Aggregate  Age  Strength  \n",
       "0            1040.0           676.0   28     79.99  \n",
       "1            1055.0           676.0   28     61.89  \n",
       "2             932.0           594.0  270     40.27  \n",
       "3             932.0           594.0  365     41.05  \n",
       "4             978.4           825.5  360     44.30  "
      ]
     },
     "execution_count": 58,
     "metadata": {},
     "output_type": "execute_result"
    }
   ],
   "source": [
    "concrete_data = pd.read_csv(\"C:/Users/hp/Downloads/concrete_data.csv\")\n",
    "concrete_data.head()"
   ]
  },
  {
   "cell_type": "markdown",
   "id": "e2b88e6f",
   "metadata": {},
   "source": [
    "Lets check how many data points we have"
   ]
  },
  {
   "cell_type": "code",
   "execution_count": 59,
   "id": "b2220edc",
   "metadata": {},
   "outputs": [
    {
     "data": {
      "text/plain": [
       "(1030, 9)"
      ]
     },
     "execution_count": 59,
     "metadata": {},
     "output_type": "execute_result"
    }
   ],
   "source": [
    "concrete_data.shape"
   ]
  },
  {
   "cell_type": "markdown",
   "id": "162e395c",
   "metadata": {},
   "source": [
    "Lets use describe function to get the statistics of the data "
   ]
  },
  {
   "cell_type": "code",
   "execution_count": 60,
   "id": "3296c2bb",
   "metadata": {},
   "outputs": [
    {
     "data": {
      "text/html": [
       "<div>\n",
       "<style scoped>\n",
       "    .dataframe tbody tr th:only-of-type {\n",
       "        vertical-align: middle;\n",
       "    }\n",
       "\n",
       "    .dataframe tbody tr th {\n",
       "        vertical-align: top;\n",
       "    }\n",
       "\n",
       "    .dataframe thead th {\n",
       "        text-align: right;\n",
       "    }\n",
       "</style>\n",
       "<table border=\"1\" class=\"dataframe\">\n",
       "  <thead>\n",
       "    <tr style=\"text-align: right;\">\n",
       "      <th></th>\n",
       "      <th>Cement</th>\n",
       "      <th>Blast Furnace Slag</th>\n",
       "      <th>Fly Ash</th>\n",
       "      <th>Water</th>\n",
       "      <th>Superplasticizer</th>\n",
       "      <th>Coarse Aggregate</th>\n",
       "      <th>Fine Aggregate</th>\n",
       "      <th>Age</th>\n",
       "      <th>Strength</th>\n",
       "    </tr>\n",
       "  </thead>\n",
       "  <tbody>\n",
       "    <tr>\n",
       "      <th>count</th>\n",
       "      <td>1030.000000</td>\n",
       "      <td>1030.000000</td>\n",
       "      <td>1030.000000</td>\n",
       "      <td>1030.000000</td>\n",
       "      <td>1030.000000</td>\n",
       "      <td>1030.000000</td>\n",
       "      <td>1030.000000</td>\n",
       "      <td>1030.000000</td>\n",
       "      <td>1030.000000</td>\n",
       "    </tr>\n",
       "    <tr>\n",
       "      <th>mean</th>\n",
       "      <td>281.167864</td>\n",
       "      <td>73.895825</td>\n",
       "      <td>54.188350</td>\n",
       "      <td>181.567282</td>\n",
       "      <td>6.204660</td>\n",
       "      <td>972.918932</td>\n",
       "      <td>773.580485</td>\n",
       "      <td>45.662136</td>\n",
       "      <td>35.817961</td>\n",
       "    </tr>\n",
       "    <tr>\n",
       "      <th>std</th>\n",
       "      <td>104.506364</td>\n",
       "      <td>86.279342</td>\n",
       "      <td>63.997004</td>\n",
       "      <td>21.354219</td>\n",
       "      <td>5.973841</td>\n",
       "      <td>77.753954</td>\n",
       "      <td>80.175980</td>\n",
       "      <td>63.169912</td>\n",
       "      <td>16.705742</td>\n",
       "    </tr>\n",
       "    <tr>\n",
       "      <th>min</th>\n",
       "      <td>102.000000</td>\n",
       "      <td>0.000000</td>\n",
       "      <td>0.000000</td>\n",
       "      <td>121.800000</td>\n",
       "      <td>0.000000</td>\n",
       "      <td>801.000000</td>\n",
       "      <td>594.000000</td>\n",
       "      <td>1.000000</td>\n",
       "      <td>2.330000</td>\n",
       "    </tr>\n",
       "    <tr>\n",
       "      <th>25%</th>\n",
       "      <td>192.375000</td>\n",
       "      <td>0.000000</td>\n",
       "      <td>0.000000</td>\n",
       "      <td>164.900000</td>\n",
       "      <td>0.000000</td>\n",
       "      <td>932.000000</td>\n",
       "      <td>730.950000</td>\n",
       "      <td>7.000000</td>\n",
       "      <td>23.710000</td>\n",
       "    </tr>\n",
       "    <tr>\n",
       "      <th>50%</th>\n",
       "      <td>272.900000</td>\n",
       "      <td>22.000000</td>\n",
       "      <td>0.000000</td>\n",
       "      <td>185.000000</td>\n",
       "      <td>6.400000</td>\n",
       "      <td>968.000000</td>\n",
       "      <td>779.500000</td>\n",
       "      <td>28.000000</td>\n",
       "      <td>34.445000</td>\n",
       "    </tr>\n",
       "    <tr>\n",
       "      <th>75%</th>\n",
       "      <td>350.000000</td>\n",
       "      <td>142.950000</td>\n",
       "      <td>118.300000</td>\n",
       "      <td>192.000000</td>\n",
       "      <td>10.200000</td>\n",
       "      <td>1029.400000</td>\n",
       "      <td>824.000000</td>\n",
       "      <td>56.000000</td>\n",
       "      <td>46.135000</td>\n",
       "    </tr>\n",
       "    <tr>\n",
       "      <th>max</th>\n",
       "      <td>540.000000</td>\n",
       "      <td>359.400000</td>\n",
       "      <td>200.100000</td>\n",
       "      <td>247.000000</td>\n",
       "      <td>32.200000</td>\n",
       "      <td>1145.000000</td>\n",
       "      <td>992.600000</td>\n",
       "      <td>365.000000</td>\n",
       "      <td>82.600000</td>\n",
       "    </tr>\n",
       "  </tbody>\n",
       "</table>\n",
       "</div>"
      ],
      "text/plain": [
       "            Cement  Blast Furnace Slag      Fly Ash        Water  \\\n",
       "count  1030.000000         1030.000000  1030.000000  1030.000000   \n",
       "mean    281.167864           73.895825    54.188350   181.567282   \n",
       "std     104.506364           86.279342    63.997004    21.354219   \n",
       "min     102.000000            0.000000     0.000000   121.800000   \n",
       "25%     192.375000            0.000000     0.000000   164.900000   \n",
       "50%     272.900000           22.000000     0.000000   185.000000   \n",
       "75%     350.000000          142.950000   118.300000   192.000000   \n",
       "max     540.000000          359.400000   200.100000   247.000000   \n",
       "\n",
       "       Superplasticizer  Coarse Aggregate  Fine Aggregate          Age  \\\n",
       "count       1030.000000       1030.000000     1030.000000  1030.000000   \n",
       "mean           6.204660        972.918932      773.580485    45.662136   \n",
       "std            5.973841         77.753954       80.175980    63.169912   \n",
       "min            0.000000        801.000000      594.000000     1.000000   \n",
       "25%            0.000000        932.000000      730.950000     7.000000   \n",
       "50%            6.400000        968.000000      779.500000    28.000000   \n",
       "75%           10.200000       1029.400000      824.000000    56.000000   \n",
       "max           32.200000       1145.000000      992.600000   365.000000   \n",
       "\n",
       "          Strength  \n",
       "count  1030.000000  \n",
       "mean     35.817961  \n",
       "std      16.705742  \n",
       "min       2.330000  \n",
       "25%      23.710000  \n",
       "50%      34.445000  \n",
       "75%      46.135000  \n",
       "max      82.600000  "
      ]
     },
     "execution_count": 60,
     "metadata": {},
     "output_type": "execute_result"
    }
   ],
   "source": [
    "concrete_data.describe()"
   ]
  },
  {
   "cell_type": "markdown",
   "id": "47f95e65",
   "metadata": {},
   "source": [
    "Lets check if the data contains any missing values in the dataset"
   ]
  },
  {
   "cell_type": "code",
   "execution_count": 61,
   "id": "bfa86086",
   "metadata": {
    "scrolled": false
   },
   "outputs": [
    {
     "data": {
      "text/plain": [
       "Cement                0\n",
       "Blast Furnace Slag    0\n",
       "Fly Ash               0\n",
       "Water                 0\n",
       "Superplasticizer      0\n",
       "Coarse Aggregate      0\n",
       "Fine Aggregate        0\n",
       "Age                   0\n",
       "Strength              0\n",
       "dtype: int64"
      ]
     },
     "execution_count": 61,
     "metadata": {},
     "output_type": "execute_result"
    }
   ],
   "source": [
    "concrete_data.isnull().sum()"
   ]
  },
  {
   "cell_type": "markdown",
   "id": "52f539dd",
   "metadata": {},
   "source": [
    "The data does not contain any Missing values So we are ready to build the model"
   ]
  },
  {
   "cell_type": "markdown",
   "id": "13100d88",
   "metadata": {},
   "source": [
    "## Spliting the data into predictor and Target"
   ]
  },
  {
   "cell_type": "markdown",
   "id": "935067ce",
   "metadata": {},
   "source": [
    "The target variable in this problem is the concrete sample strength. Therefore, our predictors will be all the other columns."
   ]
  },
  {
   "cell_type": "code",
   "execution_count": 62,
   "id": "a1fa6ba0",
   "metadata": {},
   "outputs": [],
   "source": [
    "concrete_data_columns = concrete_data.columns\n",
    "predictors = concrete_data[concrete_data_columns[concrete_data_columns != 'Strength']] # all columns except Strength\n",
    "target = concrete_data['Strength'] "
   ]
  },
  {
   "cell_type": "markdown",
   "id": "f92c2949",
   "metadata": {},
   "source": [
    "Describing the predictors"
   ]
  },
  {
   "cell_type": "code",
   "execution_count": 63,
   "id": "4d6dac1e",
   "metadata": {
    "scrolled": false
   },
   "outputs": [
    {
     "data": {
      "text/html": [
       "<div>\n",
       "<style scoped>\n",
       "    .dataframe tbody tr th:only-of-type {\n",
       "        vertical-align: middle;\n",
       "    }\n",
       "\n",
       "    .dataframe tbody tr th {\n",
       "        vertical-align: top;\n",
       "    }\n",
       "\n",
       "    .dataframe thead th {\n",
       "        text-align: right;\n",
       "    }\n",
       "</style>\n",
       "<table border=\"1\" class=\"dataframe\">\n",
       "  <thead>\n",
       "    <tr style=\"text-align: right;\">\n",
       "      <th></th>\n",
       "      <th>Cement</th>\n",
       "      <th>Blast Furnace Slag</th>\n",
       "      <th>Fly Ash</th>\n",
       "      <th>Water</th>\n",
       "      <th>Superplasticizer</th>\n",
       "      <th>Coarse Aggregate</th>\n",
       "      <th>Fine Aggregate</th>\n",
       "      <th>Age</th>\n",
       "    </tr>\n",
       "  </thead>\n",
       "  <tbody>\n",
       "    <tr>\n",
       "      <th>0</th>\n",
       "      <td>540.0</td>\n",
       "      <td>0.0</td>\n",
       "      <td>0.0</td>\n",
       "      <td>162.0</td>\n",
       "      <td>2.5</td>\n",
       "      <td>1040.0</td>\n",
       "      <td>676.0</td>\n",
       "      <td>28</td>\n",
       "    </tr>\n",
       "    <tr>\n",
       "      <th>1</th>\n",
       "      <td>540.0</td>\n",
       "      <td>0.0</td>\n",
       "      <td>0.0</td>\n",
       "      <td>162.0</td>\n",
       "      <td>2.5</td>\n",
       "      <td>1055.0</td>\n",
       "      <td>676.0</td>\n",
       "      <td>28</td>\n",
       "    </tr>\n",
       "    <tr>\n",
       "      <th>2</th>\n",
       "      <td>332.5</td>\n",
       "      <td>142.5</td>\n",
       "      <td>0.0</td>\n",
       "      <td>228.0</td>\n",
       "      <td>0.0</td>\n",
       "      <td>932.0</td>\n",
       "      <td>594.0</td>\n",
       "      <td>270</td>\n",
       "    </tr>\n",
       "    <tr>\n",
       "      <th>3</th>\n",
       "      <td>332.5</td>\n",
       "      <td>142.5</td>\n",
       "      <td>0.0</td>\n",
       "      <td>228.0</td>\n",
       "      <td>0.0</td>\n",
       "      <td>932.0</td>\n",
       "      <td>594.0</td>\n",
       "      <td>365</td>\n",
       "    </tr>\n",
       "    <tr>\n",
       "      <th>4</th>\n",
       "      <td>198.6</td>\n",
       "      <td>132.4</td>\n",
       "      <td>0.0</td>\n",
       "      <td>192.0</td>\n",
       "      <td>0.0</td>\n",
       "      <td>978.4</td>\n",
       "      <td>825.5</td>\n",
       "      <td>360</td>\n",
       "    </tr>\n",
       "  </tbody>\n",
       "</table>\n",
       "</div>"
      ],
      "text/plain": [
       "   Cement  Blast Furnace Slag  Fly Ash  Water  Superplasticizer  \\\n",
       "0   540.0                 0.0      0.0  162.0               2.5   \n",
       "1   540.0                 0.0      0.0  162.0               2.5   \n",
       "2   332.5               142.5      0.0  228.0               0.0   \n",
       "3   332.5               142.5      0.0  228.0               0.0   \n",
       "4   198.6               132.4      0.0  192.0               0.0   \n",
       "\n",
       "   Coarse Aggregate  Fine Aggregate  Age  \n",
       "0            1040.0           676.0   28  \n",
       "1            1055.0           676.0   28  \n",
       "2             932.0           594.0  270  \n",
       "3             932.0           594.0  365  \n",
       "4             978.4           825.5  360  "
      ]
     },
     "execution_count": 63,
     "metadata": {},
     "output_type": "execute_result"
    }
   ],
   "source": [
    "predictors.head()"
   ]
  },
  {
   "cell_type": "markdown",
   "id": "ce1fa233",
   "metadata": {},
   "source": [
    "Decribing the target "
   ]
  },
  {
   "cell_type": "code",
   "execution_count": 64,
   "id": "5cb8dfaa",
   "metadata": {
    "scrolled": true
   },
   "outputs": [
    {
     "data": {
      "text/plain": [
       "0    79.99\n",
       "1    61.89\n",
       "2    40.27\n",
       "3    41.05\n",
       "4    44.30\n",
       "Name: Strength, dtype: float64"
      ]
     },
     "execution_count": 64,
     "metadata": {},
     "output_type": "execute_result"
    }
   ],
   "source": [
    "target.head()"
   ]
  },
  {
   "cell_type": "markdown",
   "id": "211d5f7a",
   "metadata": {},
   "source": [
    "Normalizing the Predictors"
   ]
  },
  {
   "cell_type": "code",
   "execution_count": 65,
   "id": "e47abb9e",
   "metadata": {
    "scrolled": true
   },
   "outputs": [
    {
     "data": {
      "text/html": [
       "<div>\n",
       "<style scoped>\n",
       "    .dataframe tbody tr th:only-of-type {\n",
       "        vertical-align: middle;\n",
       "    }\n",
       "\n",
       "    .dataframe tbody tr th {\n",
       "        vertical-align: top;\n",
       "    }\n",
       "\n",
       "    .dataframe thead th {\n",
       "        text-align: right;\n",
       "    }\n",
       "</style>\n",
       "<table border=\"1\" class=\"dataframe\">\n",
       "  <thead>\n",
       "    <tr style=\"text-align: right;\">\n",
       "      <th></th>\n",
       "      <th>Cement</th>\n",
       "      <th>Blast Furnace Slag</th>\n",
       "      <th>Fly Ash</th>\n",
       "      <th>Water</th>\n",
       "      <th>Superplasticizer</th>\n",
       "      <th>Coarse Aggregate</th>\n",
       "      <th>Fine Aggregate</th>\n",
       "      <th>Age</th>\n",
       "    </tr>\n",
       "  </thead>\n",
       "  <tbody>\n",
       "    <tr>\n",
       "      <th>0</th>\n",
       "      <td>2.476712</td>\n",
       "      <td>-0.856472</td>\n",
       "      <td>-0.846733</td>\n",
       "      <td>-0.916319</td>\n",
       "      <td>-0.620147</td>\n",
       "      <td>0.862735</td>\n",
       "      <td>-1.217079</td>\n",
       "      <td>-0.279597</td>\n",
       "    </tr>\n",
       "    <tr>\n",
       "      <th>1</th>\n",
       "      <td>2.476712</td>\n",
       "      <td>-0.856472</td>\n",
       "      <td>-0.846733</td>\n",
       "      <td>-0.916319</td>\n",
       "      <td>-0.620147</td>\n",
       "      <td>1.055651</td>\n",
       "      <td>-1.217079</td>\n",
       "      <td>-0.279597</td>\n",
       "    </tr>\n",
       "    <tr>\n",
       "      <th>2</th>\n",
       "      <td>0.491187</td>\n",
       "      <td>0.795140</td>\n",
       "      <td>-0.846733</td>\n",
       "      <td>2.174405</td>\n",
       "      <td>-1.038638</td>\n",
       "      <td>-0.526262</td>\n",
       "      <td>-2.239829</td>\n",
       "      <td>3.551340</td>\n",
       "    </tr>\n",
       "    <tr>\n",
       "      <th>3</th>\n",
       "      <td>0.491187</td>\n",
       "      <td>0.795140</td>\n",
       "      <td>-0.846733</td>\n",
       "      <td>2.174405</td>\n",
       "      <td>-1.038638</td>\n",
       "      <td>-0.526262</td>\n",
       "      <td>-2.239829</td>\n",
       "      <td>5.055221</td>\n",
       "    </tr>\n",
       "    <tr>\n",
       "      <th>4</th>\n",
       "      <td>-0.790075</td>\n",
       "      <td>0.678079</td>\n",
       "      <td>-0.846733</td>\n",
       "      <td>0.488555</td>\n",
       "      <td>-1.038638</td>\n",
       "      <td>0.070492</td>\n",
       "      <td>0.647569</td>\n",
       "      <td>4.976069</td>\n",
       "    </tr>\n",
       "  </tbody>\n",
       "</table>\n",
       "</div>"
      ],
      "text/plain": [
       "     Cement  Blast Furnace Slag   Fly Ash     Water  Superplasticizer  \\\n",
       "0  2.476712           -0.856472 -0.846733 -0.916319         -0.620147   \n",
       "1  2.476712           -0.856472 -0.846733 -0.916319         -0.620147   \n",
       "2  0.491187            0.795140 -0.846733  2.174405         -1.038638   \n",
       "3  0.491187            0.795140 -0.846733  2.174405         -1.038638   \n",
       "4 -0.790075            0.678079 -0.846733  0.488555         -1.038638   \n",
       "\n",
       "   Coarse Aggregate  Fine Aggregate       Age  \n",
       "0          0.862735       -1.217079 -0.279597  \n",
       "1          1.055651       -1.217079 -0.279597  \n",
       "2         -0.526262       -2.239829  3.551340  \n",
       "3         -0.526262       -2.239829  5.055221  \n",
       "4          0.070492        0.647569  4.976069  "
      ]
     },
     "execution_count": 65,
     "metadata": {},
     "output_type": "execute_result"
    }
   ],
   "source": [
    "predictors_norm = (predictors - predictors.mean()) / predictors.std()\n",
    "predictors_norm.head()"
   ]
  },
  {
   "cell_type": "markdown",
   "id": "575c1da3",
   "metadata": {},
   "source": [
    "Knowing the number of predictors"
   ]
  },
  {
   "cell_type": "code",
   "execution_count": 66,
   "id": "b2c07147",
   "metadata": {},
   "outputs": [
    {
     "data": {
      "text/plain": [
       "8"
      ]
     },
     "execution_count": 66,
     "metadata": {},
     "output_type": "execute_result"
    }
   ],
   "source": [
    "n_cols = predictors_norm.shape[1] # number of predictors\n",
    "n_cols"
   ]
  },
  {
   "cell_type": "markdown",
   "id": "acc9ca55",
   "metadata": {},
   "source": [
    "# Import Keras"
   ]
  },
  {
   "cell_type": "code",
   "execution_count": 67,
   "id": "4e623499",
   "metadata": {},
   "outputs": [],
   "source": [
    "import keras"
   ]
  },
  {
   "cell_type": "markdown",
   "id": "18fc2ad6",
   "metadata": {},
   "source": [
    "Lets import the Sequential and Dense Layers to create our model"
   ]
  },
  {
   "cell_type": "code",
   "execution_count": 68,
   "id": "1a5214b8",
   "metadata": {},
   "outputs": [],
   "source": [
    "from keras.models import Sequential\n",
    "from keras.layers import Dense"
   ]
  },
  {
   "cell_type": "markdown",
   "id": "a54316a2",
   "metadata": {},
   "source": [
    "## Creating our model and Compiling the model"
   ]
  },
  {
   "cell_type": "markdown",
   "id": "5cf827a3",
   "metadata": {},
   "source": [
    "The above function creates a model that has one hidden layer with 10 neurons and a ReLU activation function. It uses the adam optimizer and the mean squared error as the loss function."
   ]
  },
  {
   "cell_type": "code",
   "execution_count": 69,
   "id": "ab5a7708",
   "metadata": {},
   "outputs": [],
   "source": [
    "def model():\n",
    "    model = Sequential()\n",
    "    model.add(Dense(10, activation='relu', input_shape=(n_cols,)))\n",
    "    model.add(Dense(1))\n",
    "\n",
    "    model.compile(optimizer='adam', loss='mean_squared_error')\n",
    "    return model"
   ]
  },
  {
   "cell_type": "markdown",
   "id": "3b30914c",
   "metadata": {},
   "source": [
    "Now As mentioned we use Scikit-learn inn order to randomly split the data into training and test set"
   ]
  },
  {
   "cell_type": "code",
   "execution_count": 70,
   "id": "d951b4a7",
   "metadata": {},
   "outputs": [],
   "source": [
    "from sklearn.model_selection import train_test_split"
   ]
  },
  {
   "cell_type": "code",
   "execution_count": 71,
   "id": "8a711d73",
   "metadata": {},
   "outputs": [],
   "source": [
    "X_train, X_test, y_train, y_test = train_test_split(predictors, target, test_size=0.3, random_state=42)"
   ]
  },
  {
   "cell_type": "markdown",
   "id": "67b01161",
   "metadata": {},
   "source": [
    "## Train and Test the Network"
   ]
  },
  {
   "cell_type": "markdown",
   "id": "9102c472",
   "metadata": {},
   "source": [
    "Let's call the function now to create our model."
   ]
  },
  {
   "cell_type": "code",
   "execution_count": 72,
   "id": "da69a070",
   "metadata": {},
   "outputs": [],
   "source": [
    "model = model()"
   ]
  },
  {
   "cell_type": "markdown",
   "id": "57a7150a",
   "metadata": {},
   "source": [
    "Now we'll train about 50 epochs"
   ]
  },
  {
   "cell_type": "code",
   "execution_count": 73,
   "id": "1724b340",
   "metadata": {},
   "outputs": [
    {
     "name": "stdout",
     "output_type": "stream",
     "text": [
      "Epoch 1/100\n",
      "23/23 [==============================] - 1s 10ms/step - loss: 24977.8418\n",
      "Epoch 2/100\n",
      "23/23 [==============================] - 0s 9ms/step - loss: 6279.4834\n",
      "Epoch 3/100\n",
      "23/23 [==============================] - 0s 7ms/step - loss: 3946.5217\n",
      "Epoch 4/100\n",
      "23/23 [==============================] - 0s 7ms/step - loss: 3492.2136\n",
      "Epoch 5/100\n",
      "23/23 [==============================] - 0s 7ms/step - loss: 3059.4192\n",
      "Epoch 6/100\n",
      "23/23 [==============================] - 0s 7ms/step - loss: 2704.6672\n",
      "Epoch 7/100\n",
      "23/23 [==============================] - 0s 7ms/step - loss: 2389.2478\n",
      "Epoch 8/100\n",
      "23/23 [==============================] - 0s 7ms/step - loss: 2099.3606\n",
      "Epoch 9/100\n",
      "23/23 [==============================] - 0s 7ms/step - loss: 1848.1312\n",
      "Epoch 10/100\n",
      "23/23 [==============================] - 0s 7ms/step - loss: 1623.8848\n",
      "Epoch 11/100\n",
      "23/23 [==============================] - 0s 7ms/step - loss: 1438.5930\n",
      "Epoch 12/100\n",
      "23/23 [==============================] - 0s 7ms/step - loss: 1266.5032\n",
      "Epoch 13/100\n",
      "23/23 [==============================] - 0s 7ms/step - loss: 1115.9395\n",
      "Epoch 14/100\n",
      "23/23 [==============================] - 0s 7ms/step - loss: 978.3618\n",
      "Epoch 15/100\n",
      "23/23 [==============================] - 0s 7ms/step - loss: 855.6593\n",
      "Epoch 16/100\n",
      "23/23 [==============================] - 0s 7ms/step - loss: 750.3065\n",
      "Epoch 17/100\n",
      "23/23 [==============================] - 0s 8ms/step - loss: 655.4905\n",
      "Epoch 18/100\n",
      "23/23 [==============================] - 0s 8ms/step - loss: 575.3180\n",
      "Epoch 19/100\n",
      "23/23 [==============================] - 0s 7ms/step - loss: 507.0934\n",
      "Epoch 20/100\n",
      "23/23 [==============================] - 0s 7ms/step - loss: 448.8744\n",
      "Epoch 21/100\n",
      "23/23 [==============================] - 0s 8ms/step - loss: 401.9583\n",
      "Epoch 22/100\n",
      "23/23 [==============================] - 0s 7ms/step - loss: 362.3580\n",
      "Epoch 23/100\n",
      "23/23 [==============================] - 0s 7ms/step - loss: 330.3108\n",
      "Epoch 24/100\n",
      "23/23 [==============================] - 0s 7ms/step - loss: 303.9781\n",
      "Epoch 25/100\n",
      "23/23 [==============================] - 0s 7ms/step - loss: 280.7218\n",
      "Epoch 26/100\n",
      "23/23 [==============================] - 0s 7ms/step - loss: 263.6375\n",
      "Epoch 27/100\n",
      "23/23 [==============================] - 0s 7ms/step - loss: 247.2277\n",
      "Epoch 28/100\n",
      "23/23 [==============================] - 0s 8ms/step - loss: 235.0870\n",
      "Epoch 29/100\n",
      "23/23 [==============================] - 0s 7ms/step - loss: 223.9736\n",
      "Epoch 30/100\n",
      "23/23 [==============================] - 0s 8ms/step - loss: 213.5061\n",
      "Epoch 31/100\n",
      "23/23 [==============================] - 0s 7ms/step - loss: 205.0073\n",
      "Epoch 32/100\n",
      "23/23 [==============================] - 0s 9ms/step - loss: 197.2742\n",
      "Epoch 33/100\n",
      "23/23 [==============================] - 0s 7ms/step - loss: 190.3778\n",
      "Epoch 34/100\n",
      "23/23 [==============================] - 0s 8ms/step - loss: 183.8867\n",
      "Epoch 35/100\n",
      "23/23 [==============================] - 0s 8ms/step - loss: 178.8461\n",
      "Epoch 36/100\n",
      "23/23 [==============================] - 0s 8ms/step - loss: 173.7981\n",
      "Epoch 37/100\n",
      "23/23 [==============================] - 0s 8ms/step - loss: 169.3551\n",
      "Epoch 38/100\n",
      "23/23 [==============================] - 0s 7ms/step - loss: 165.3721\n",
      "Epoch 39/100\n",
      "23/23 [==============================] - 0s 10ms/step - loss: 161.2412\n",
      "Epoch 40/100\n",
      "23/23 [==============================] - 0s 9ms/step - loss: 157.9770\n",
      "Epoch 41/100\n",
      "23/23 [==============================] - 0s 9ms/step - loss: 154.8132\n",
      "Epoch 42/100\n",
      "23/23 [==============================] - 0s 12ms/step - loss: 152.7249\n",
      "Epoch 43/100\n",
      "23/23 [==============================] - 0s 10ms/step - loss: 151.8737\n",
      "Epoch 44/100\n",
      "23/23 [==============================] - 0s 9ms/step - loss: 148.2069\n",
      "Epoch 45/100\n",
      "23/23 [==============================] - 0s 8ms/step - loss: 146.3729\n",
      "Epoch 46/100\n",
      "23/23 [==============================] - 0s 8ms/step - loss: 144.0926\n",
      "Epoch 47/100\n",
      "23/23 [==============================] - 0s 7ms/step - loss: 141.9454\n",
      "Epoch 48/100\n",
      "23/23 [==============================] - 0s 7ms/step - loss: 140.7951\n",
      "Epoch 49/100\n",
      "23/23 [==============================] - 0s 7ms/step - loss: 138.4922\n",
      "Epoch 50/100\n",
      "23/23 [==============================] - 0s 7ms/step - loss: 137.6028\n",
      "Epoch 51/100\n",
      "23/23 [==============================] - 0s 7ms/step - loss: 136.0256\n",
      "Epoch 52/100\n",
      "23/23 [==============================] - 0s 7ms/step - loss: 134.2682\n",
      "Epoch 53/100\n",
      "23/23 [==============================] - 0s 6ms/step - loss: 133.3948\n",
      "Epoch 54/100\n",
      "23/23 [==============================] - 0s 6ms/step - loss: 131.9779\n",
      "Epoch 55/100\n",
      "23/23 [==============================] - 0s 6ms/step - loss: 130.2705\n",
      "Epoch 56/100\n",
      "23/23 [==============================] - 0s 8ms/step - loss: 128.8797\n",
      "Epoch 57/100\n",
      "23/23 [==============================] - 0s 6ms/step - loss: 128.2452\n",
      "Epoch 58/100\n",
      "23/23 [==============================] - 0s 6ms/step - loss: 126.8660\n",
      "Epoch 59/100\n",
      "23/23 [==============================] - 0s 6ms/step - loss: 125.8544\n",
      "Epoch 60/100\n",
      "23/23 [==============================] - 0s 7ms/step - loss: 124.6451\n",
      "Epoch 61/100\n",
      "23/23 [==============================] - 0s 7ms/step - loss: 124.0124\n",
      "Epoch 62/100\n",
      "23/23 [==============================] - 0s 6ms/step - loss: 123.1356\n",
      "Epoch 63/100\n",
      "23/23 [==============================] - 0s 7ms/step - loss: 122.4980\n",
      "Epoch 64/100\n",
      "23/23 [==============================] - 0s 7ms/step - loss: 122.8879\n",
      "Epoch 65/100\n",
      "23/23 [==============================] - 0s 7ms/step - loss: 122.2393\n",
      "Epoch 66/100\n",
      "23/23 [==============================] - 0s 9ms/step - loss: 121.9934\n",
      "Epoch 67/100\n",
      "23/23 [==============================] - 0s 10ms/step - loss: 120.1696\n",
      "Epoch 68/100\n",
      "23/23 [==============================] - 0s 8ms/step - loss: 120.4021\n",
      "Epoch 69/100\n",
      "23/23 [==============================] - 0s 7ms/step - loss: 119.5270\n",
      "Epoch 70/100\n",
      "23/23 [==============================] - 0s 8ms/step - loss: 119.3389\n",
      "Epoch 71/100\n",
      "23/23 [==============================] - 0s 8ms/step - loss: 118.9629\n",
      "Epoch 72/100\n",
      "23/23 [==============================] - 0s 8ms/step - loss: 118.1042\n",
      "Epoch 73/100\n",
      "23/23 [==============================] - 0s 9ms/step - loss: 117.7958\n",
      "Epoch 74/100\n",
      "23/23 [==============================] - 0s 7ms/step - loss: 119.0292\n",
      "Epoch 75/100\n",
      "23/23 [==============================] - 0s 6ms/step - loss: 118.4988\n",
      "Epoch 76/100\n",
      "23/23 [==============================] - 0s 7ms/step - loss: 117.1376\n",
      "Epoch 77/100\n",
      "23/23 [==============================] - 0s 7ms/step - loss: 117.0641\n",
      "Epoch 78/100\n",
      "23/23 [==============================] - 0s 6ms/step - loss: 117.1563\n",
      "Epoch 79/100\n",
      "23/23 [==============================] - 0s 7ms/step - loss: 116.6826\n",
      "Epoch 80/100\n",
      "23/23 [==============================] - 0s 7ms/step - loss: 115.9195\n",
      "Epoch 81/100\n",
      "23/23 [==============================] - 0s 7ms/step - loss: 116.1066\n",
      "Epoch 82/100\n",
      "23/23 [==============================] - 0s 6ms/step - loss: 115.7407\n",
      "Epoch 83/100\n",
      "23/23 [==============================] - 0s 8ms/step - loss: 115.5277\n",
      "Epoch 84/100\n",
      "23/23 [==============================] - 0s 7ms/step - loss: 115.8465\n",
      "Epoch 85/100\n",
      "23/23 [==============================] - 0s 7ms/step - loss: 117.2737\n",
      "Epoch 86/100\n",
      "23/23 [==============================] - 0s 6ms/step - loss: 116.0231\n",
      "Epoch 87/100\n",
      "23/23 [==============================] - 0s 7ms/step - loss: 114.5461\n",
      "Epoch 88/100\n",
      "23/23 [==============================] - 0s 6ms/step - loss: 116.0584\n",
      "Epoch 89/100\n",
      "23/23 [==============================] - 0s 7ms/step - loss: 114.3512\n",
      "Epoch 90/100\n",
      "23/23 [==============================] - 0s 6ms/step - loss: 114.2221\n",
      "Epoch 91/100\n",
      "23/23 [==============================] - 0s 6ms/step - loss: 116.8454\n",
      "Epoch 92/100\n",
      "23/23 [==============================] - 0s 6ms/step - loss: 114.5435\n",
      "Epoch 93/100\n",
      "23/23 [==============================] - 0s 7ms/step - loss: 113.4441\n",
      "Epoch 94/100\n",
      "23/23 [==============================] - 0s 6ms/step - loss: 114.1629\n",
      "Epoch 95/100\n",
      "23/23 [==============================] - 0s 7ms/step - loss: 113.6806\n",
      "Epoch 96/100\n",
      "23/23 [==============================] - 0s 6ms/step - loss: 113.2099\n",
      "Epoch 97/100\n",
      "23/23 [==============================] - 0s 7ms/step - loss: 113.3336\n",
      "Epoch 98/100\n",
      "23/23 [==============================] - 0s 6ms/step - loss: 113.1727\n",
      "Epoch 99/100\n"
     ]
    },
    {
     "name": "stdout",
     "output_type": "stream",
     "text": [
      "23/23 [==============================] - 0s 8ms/step - loss: 112.9479\n",
      "Epoch 100/100\n",
      "23/23 [==============================] - 0s 7ms/step - loss: 112.6615\n"
     ]
    },
    {
     "data": {
      "text/plain": [
       "<keras.callbacks.History at 0x250860a9390>"
      ]
     },
     "execution_count": 73,
     "metadata": {},
     "output_type": "execute_result"
    }
   ],
   "source": [
    "epochs=100\n",
    "model.fit(X_train,y_train,epochs=epochs,verbose=1)"
   ]
  },
  {
   "cell_type": "markdown",
   "id": "41242c74",
   "metadata": {},
   "source": [
    "Next we need to evaluate the model on the test data."
   ]
  },
  {
   "cell_type": "code",
   "execution_count": 74,
   "id": "df5415e9",
   "metadata": {},
   "outputs": [
    {
     "name": "stdout",
     "output_type": "stream",
     "text": [
      "10/10 [==============================] - 0s 6ms/step - loss: 114.5851\n",
      "10/10 [==============================] - 0s 4ms/step\n"
     ]
    },
    {
     "data": {
      "text/plain": [
       "114.58509063720703"
      ]
     },
     "execution_count": 74,
     "metadata": {},
     "output_type": "execute_result"
    }
   ],
   "source": [
    "loss_val = model.evaluate(X_test, y_test)\n",
    "y_pred = model.predict(X_test)\n",
    "loss_val"
   ]
  },
  {
   "cell_type": "markdown",
   "id": "78360cfb",
   "metadata": {},
   "source": [
    "Now we need to compute the mean squared error between the predicted concrete strength and the actual concrete strength."
   ]
  },
  {
   "cell_type": "code",
   "execution_count": 75,
   "id": "18a10be1",
   "metadata": {},
   "outputs": [],
   "source": [
    "from sklearn.metrics import mean_squared_error"
   ]
  },
  {
   "cell_type": "code",
   "execution_count": 76,
   "id": "61b909ba",
   "metadata": {},
   "outputs": [
    {
     "name": "stdout",
     "output_type": "stream",
     "text": [
      "114.5851019407682 0.0\n"
     ]
    }
   ],
   "source": [
    "mean_square_error = mean_squared_error(y_test, y_pred)\n",
    "mean = np.mean(mean_square_error)\n",
    "standard_deviation = np.std(mean_square_error)\n",
    "print(mean, standard_deviation)"
   ]
  },
  {
   "cell_type": "markdown",
   "id": "7abf9857",
   "metadata": {},
   "source": [
    "Create a list of 50 mean squared errors and report mean and the standard deviation of the mean squared errors."
   ]
  },
  {
   "cell_type": "code",
   "execution_count": 77,
   "id": "6af1b495",
   "metadata": {},
   "outputs": [
    {
     "name": "stdout",
     "output_type": "stream",
     "text": [
      "MSE 1: 95.60775756835938\n",
      "10/10 [==============================] - 0s 5ms/step\n",
      "MSE 2: 123.76346588134766\n",
      "10/10 [==============================] - 0s 18ms/step\n",
      "MSE 3: 106.94341278076172\n",
      "10/10 [==============================] - 0s 7ms/step\n",
      "MSE 4: 116.59716033935547\n",
      "10/10 [==============================] - 0s 4ms/step\n",
      "MSE 5: 129.46096801757812\n",
      "10/10 [==============================] - 0s 5ms/step\n",
      "MSE 6: 87.64653015136719\n",
      "10/10 [==============================] - 0s 4ms/step\n",
      "MSE 7: 87.81830596923828\n",
      "10/10 [==============================] - 0s 5ms/step\n",
      "MSE 8: 68.4161376953125\n",
      "10/10 [==============================] - 0s 8ms/step\n",
      "MSE 9: 67.0574951171875\n",
      "10/10 [==============================] - 0s 5ms/step\n",
      "MSE 10: 63.066001892089844\n",
      "10/10 [==============================] - 0s 5ms/step\n",
      "MSE 11: 62.62748336791992\n",
      "10/10 [==============================] - 0s 4ms/step\n",
      "MSE 12: 58.57208251953125\n",
      "10/10 [==============================] - 0s 4ms/step\n",
      "MSE 13: 68.35800170898438\n",
      "10/10 [==============================] - 0s 6ms/step\n",
      "MSE 14: 59.10807418823242\n",
      "10/10 [==============================] - 0s 5ms/step\n",
      "MSE 15: 50.761837005615234\n",
      "10/10 [==============================] - 0s 5ms/step\n",
      "MSE 16: 47.32314682006836\n",
      "10/10 [==============================] - 0s 4ms/step\n",
      "MSE 17: 50.28643798828125\n",
      "10/10 [==============================] - 0s 4ms/step\n",
      "MSE 18: 52.14710235595703\n",
      "10/10 [==============================] - 0s 7ms/step\n",
      "MSE 19: 44.1556396484375\n",
      "10/10 [==============================] - 0s 4ms/step\n",
      "MSE 20: 47.27007293701172\n",
      "10/10 [==============================] - 0s 7ms/step\n",
      "MSE 21: 44.44740295410156\n",
      "10/10 [==============================] - 0s 4ms/step\n",
      "MSE 22: 47.087215423583984\n",
      "10/10 [==============================] - 0s 5ms/step\n",
      "MSE 23: 46.304954528808594\n",
      "10/10 [==============================] - 0s 10ms/step\n",
      "MSE 24: 45.683345794677734\n",
      "10/10 [==============================] - 0s 4ms/step\n",
      "MSE 25: 47.377838134765625\n",
      "10/10 [==============================] - 0s 4ms/step\n",
      "MSE 26: 47.4088020324707\n",
      "10/10 [==============================] - 0s 5ms/step\n",
      "MSE 27: 49.75331497192383\n",
      "10/10 [==============================] - 0s 5ms/step\n",
      "MSE 28: 48.223567962646484\n",
      "10/10 [==============================] - 0s 5ms/step\n",
      "MSE 29: 54.24675750732422\n",
      "10/10 [==============================] - 0s 4ms/step\n",
      "MSE 30: 50.87477111816406\n",
      "10/10 [==============================] - 0s 4ms/step\n",
      "MSE 31: 51.451332092285156\n",
      "10/10 [==============================] - 0s 4ms/step\n",
      "MSE 32: 47.5332145690918\n",
      "10/10 [==============================] - 0s 4ms/step\n",
      "MSE 33: 50.29791259765625\n",
      "10/10 [==============================] - 0s 4ms/step\n",
      "MSE 34: 45.0545654296875\n",
      "10/10 [==============================] - 0s 5ms/step\n",
      "MSE 35: 43.108394622802734\n",
      "10/10 [==============================] - 0s 4ms/step\n",
      "MSE 36: 51.746639251708984\n",
      "10/10 [==============================] - 0s 5ms/step\n",
      "MSE 37: 47.96712112426758\n",
      "10/10 [==============================] - 0s 4ms/step\n",
      "MSE 38: 50.629066467285156\n",
      "10/10 [==============================] - 0s 4ms/step\n",
      "MSE 39: 50.645912170410156\n",
      "10/10 [==============================] - 0s 4ms/step\n",
      "MSE 40: 40.02086639404297\n",
      "10/10 [==============================] - 0s 6ms/step\n",
      "MSE 41: 60.334312438964844\n",
      "10/10 [==============================] - 0s 5ms/step\n",
      "MSE 42: 42.387123107910156\n",
      "10/10 [==============================] - 0s 4ms/step\n",
      "MSE 43: 46.50748825073242\n",
      "10/10 [==============================] - 0s 5ms/step\n",
      "MSE 44: 53.26197052001953\n",
      "10/10 [==============================] - 0s 5ms/step\n",
      "MSE 45: 48.04716491699219\n",
      "10/10 [==============================] - 0s 5ms/step\n",
      "MSE 46: 47.4068717956543\n",
      "10/10 [==============================] - 0s 5ms/step\n",
      "MSE 47: 45.10495376586914\n",
      "10/10 [==============================] - 0s 4ms/step\n",
      "MSE 48: 47.94609832763672\n",
      "10/10 [==============================] - 0s 4ms/step\n",
      "MSE 49: 49.06990432739258\n",
      "10/10 [==============================] - 0s 4ms/step\n",
      "MSE 50: 46.945491790771484\n",
      "10/10 [==============================] - 0s 4ms/step\n",
      "\n",
      "\n",
      "Below is the mean and standard deviation of 50 mean squared errors without normalized data. Total number of epochs for each training is: 50\n",
      "\n",
      "Mean: 58.677228812442216\n",
      "Standard Deviation: 21.276736598332246\n"
     ]
    }
   ],
   "source": [
    "total_mean_squared_errors = 50\n",
    "epochs = 50\n",
    "mean_squared_errors = []\n",
    "for i in range(0, total_mean_squared_errors):\n",
    "    X_train, X_test, y_train, y_test = train_test_split(predictors, target, test_size=0.3, random_state=i)\n",
    "    model.fit(X_train, y_train, epochs=epochs, verbose=0)\n",
    "    MSE = model.evaluate(X_test, y_test, verbose=0)\n",
    "    print(\"MSE \"+str(i+1)+\": \"+str(MSE))\n",
    "    y_pred = model.predict(X_test)\n",
    "    mean_square_error = mean_squared_error(y_test, y_pred)\n",
    "    mean_squared_errors.append(mean_square_error)\n",
    "\n",
    "mean_squared_errors = np.array(mean_squared_errors)\n",
    "mean = np.mean(mean_squared_errors)\n",
    "standard_deviation = np.std(mean_squared_errors)\n",
    "\n",
    "print('\\n')\n",
    "print(\"Below is the mean and standard deviation of \" +str(total_mean_squared_errors) + \" mean squared errors without normalized data. Total number of epochs for each training is: \" +str(epochs) + \"\\n\")\n",
    "print(\"Mean: \"+str(mean))\n",
    "print(\"Standard Deviation: \"+str(standard_deviation))"
   ]
  }
 ],
 "metadata": {
  "kernelspec": {
   "display_name": "Python 3 (ipykernel)",
   "language": "python",
   "name": "python3"
  },
  "language_info": {
   "codemirror_mode": {
    "name": "ipython",
    "version": 3
   },
   "file_extension": ".py",
   "mimetype": "text/x-python",
   "name": "python",
   "nbconvert_exporter": "python",
   "pygments_lexer": "ipython3",
   "version": "3.10.4"
  }
 },
 "nbformat": 4,
 "nbformat_minor": 5
}
