{
 "cells": [
  {
   "cell_type": "markdown",
   "id": "f61380b4",
   "metadata": {},
   "source": [
    "# Importing datasets and necesarry Libraries"
   ]
  },
  {
   "cell_type": "markdown",
   "id": "b7a11da7",
   "metadata": {},
   "source": [
    "Lets import pandas and Numpy Libraries"
   ]
  },
  {
   "cell_type": "code",
   "execution_count": 1,
   "id": "1e7864ab",
   "metadata": {},
   "outputs": [],
   "source": [
    "import pandas as pd\n",
    "import numpy as np"
   ]
  },
  {
   "cell_type": "markdown",
   "id": "4f80c6aa",
   "metadata": {},
   "source": [
    "We will be using the dataset provided in the assignment\n",
    "\n",
    "The dataset is about the compressive strength of different samples of concrete based on the volumes of the different ingredients that were used to make them. Ingredients include:\n",
    "\n",
    "1. Cement\n",
    "\n",
    "2. Blast Furnace Slag\n",
    "\n",
    "3. Fly Ash\n",
    "\n",
    "4. Water\n",
    "\n",
    "5. Superplasticizer\n",
    "\n",
    "6. Coarse Aggregate\n",
    "\n",
    "7. Fine Aggregate\n",
    "\n",
    "Let's read the dataset into a pandas dataframe."
   ]
  },
  {
   "cell_type": "code",
   "execution_count": 2,
   "id": "971a9a24",
   "metadata": {
    "scrolled": true
   },
   "outputs": [
    {
     "data": {
      "text/html": [
       "<div>\n",
       "<style scoped>\n",
       "    .dataframe tbody tr th:only-of-type {\n",
       "        vertical-align: middle;\n",
       "    }\n",
       "\n",
       "    .dataframe tbody tr th {\n",
       "        vertical-align: top;\n",
       "    }\n",
       "\n",
       "    .dataframe thead th {\n",
       "        text-align: right;\n",
       "    }\n",
       "</style>\n",
       "<table border=\"1\" class=\"dataframe\">\n",
       "  <thead>\n",
       "    <tr style=\"text-align: right;\">\n",
       "      <th></th>\n",
       "      <th>Cement</th>\n",
       "      <th>Blast Furnace Slag</th>\n",
       "      <th>Fly Ash</th>\n",
       "      <th>Water</th>\n",
       "      <th>Superplasticizer</th>\n",
       "      <th>Coarse Aggregate</th>\n",
       "      <th>Fine Aggregate</th>\n",
       "      <th>Age</th>\n",
       "      <th>Strength</th>\n",
       "    </tr>\n",
       "  </thead>\n",
       "  <tbody>\n",
       "    <tr>\n",
       "      <th>0</th>\n",
       "      <td>540.0</td>\n",
       "      <td>0.0</td>\n",
       "      <td>0.0</td>\n",
       "      <td>162.0</td>\n",
       "      <td>2.5</td>\n",
       "      <td>1040.0</td>\n",
       "      <td>676.0</td>\n",
       "      <td>28</td>\n",
       "      <td>79.99</td>\n",
       "    </tr>\n",
       "    <tr>\n",
       "      <th>1</th>\n",
       "      <td>540.0</td>\n",
       "      <td>0.0</td>\n",
       "      <td>0.0</td>\n",
       "      <td>162.0</td>\n",
       "      <td>2.5</td>\n",
       "      <td>1055.0</td>\n",
       "      <td>676.0</td>\n",
       "      <td>28</td>\n",
       "      <td>61.89</td>\n",
       "    </tr>\n",
       "    <tr>\n",
       "      <th>2</th>\n",
       "      <td>332.5</td>\n",
       "      <td>142.5</td>\n",
       "      <td>0.0</td>\n",
       "      <td>228.0</td>\n",
       "      <td>0.0</td>\n",
       "      <td>932.0</td>\n",
       "      <td>594.0</td>\n",
       "      <td>270</td>\n",
       "      <td>40.27</td>\n",
       "    </tr>\n",
       "    <tr>\n",
       "      <th>3</th>\n",
       "      <td>332.5</td>\n",
       "      <td>142.5</td>\n",
       "      <td>0.0</td>\n",
       "      <td>228.0</td>\n",
       "      <td>0.0</td>\n",
       "      <td>932.0</td>\n",
       "      <td>594.0</td>\n",
       "      <td>365</td>\n",
       "      <td>41.05</td>\n",
       "    </tr>\n",
       "    <tr>\n",
       "      <th>4</th>\n",
       "      <td>198.6</td>\n",
       "      <td>132.4</td>\n",
       "      <td>0.0</td>\n",
       "      <td>192.0</td>\n",
       "      <td>0.0</td>\n",
       "      <td>978.4</td>\n",
       "      <td>825.5</td>\n",
       "      <td>360</td>\n",
       "      <td>44.30</td>\n",
       "    </tr>\n",
       "  </tbody>\n",
       "</table>\n",
       "</div>"
      ],
      "text/plain": [
       "   Cement  Blast Furnace Slag  Fly Ash  Water  Superplasticizer  \\\n",
       "0   540.0                 0.0      0.0  162.0               2.5   \n",
       "1   540.0                 0.0      0.0  162.0               2.5   \n",
       "2   332.5               142.5      0.0  228.0               0.0   \n",
       "3   332.5               142.5      0.0  228.0               0.0   \n",
       "4   198.6               132.4      0.0  192.0               0.0   \n",
       "\n",
       "   Coarse Aggregate  Fine Aggregate  Age  Strength  \n",
       "0            1040.0           676.0   28     79.99  \n",
       "1            1055.0           676.0   28     61.89  \n",
       "2             932.0           594.0  270     40.27  \n",
       "3             932.0           594.0  365     41.05  \n",
       "4             978.4           825.5  360     44.30  "
      ]
     },
     "execution_count": 2,
     "metadata": {},
     "output_type": "execute_result"
    }
   ],
   "source": [
    "concrete_data = pd.read_csv(\"C:/Users/hp/Downloads/concrete_data.csv\")\n",
    "concrete_data.head()"
   ]
  },
  {
   "cell_type": "markdown",
   "id": "84a1f572",
   "metadata": {},
   "source": [
    "Lets check how many data points we have"
   ]
  },
  {
   "cell_type": "code",
   "execution_count": 3,
   "id": "5f5da2a6",
   "metadata": {},
   "outputs": [
    {
     "data": {
      "text/plain": [
       "(1030, 9)"
      ]
     },
     "execution_count": 3,
     "metadata": {},
     "output_type": "execute_result"
    }
   ],
   "source": [
    "concrete_data.shape"
   ]
  },
  {
   "cell_type": "markdown",
   "id": "390d526c",
   "metadata": {},
   "source": [
    "Lets use describe function to get the statistics of the data "
   ]
  },
  {
   "cell_type": "code",
   "execution_count": 4,
   "id": "e5f42344",
   "metadata": {},
   "outputs": [
    {
     "data": {
      "text/html": [
       "<div>\n",
       "<style scoped>\n",
       "    .dataframe tbody tr th:only-of-type {\n",
       "        vertical-align: middle;\n",
       "    }\n",
       "\n",
       "    .dataframe tbody tr th {\n",
       "        vertical-align: top;\n",
       "    }\n",
       "\n",
       "    .dataframe thead th {\n",
       "        text-align: right;\n",
       "    }\n",
       "</style>\n",
       "<table border=\"1\" class=\"dataframe\">\n",
       "  <thead>\n",
       "    <tr style=\"text-align: right;\">\n",
       "      <th></th>\n",
       "      <th>Cement</th>\n",
       "      <th>Blast Furnace Slag</th>\n",
       "      <th>Fly Ash</th>\n",
       "      <th>Water</th>\n",
       "      <th>Superplasticizer</th>\n",
       "      <th>Coarse Aggregate</th>\n",
       "      <th>Fine Aggregate</th>\n",
       "      <th>Age</th>\n",
       "      <th>Strength</th>\n",
       "    </tr>\n",
       "  </thead>\n",
       "  <tbody>\n",
       "    <tr>\n",
       "      <th>count</th>\n",
       "      <td>1030.000000</td>\n",
       "      <td>1030.000000</td>\n",
       "      <td>1030.000000</td>\n",
       "      <td>1030.000000</td>\n",
       "      <td>1030.000000</td>\n",
       "      <td>1030.000000</td>\n",
       "      <td>1030.000000</td>\n",
       "      <td>1030.000000</td>\n",
       "      <td>1030.000000</td>\n",
       "    </tr>\n",
       "    <tr>\n",
       "      <th>mean</th>\n",
       "      <td>281.167864</td>\n",
       "      <td>73.895825</td>\n",
       "      <td>54.188350</td>\n",
       "      <td>181.567282</td>\n",
       "      <td>6.204660</td>\n",
       "      <td>972.918932</td>\n",
       "      <td>773.580485</td>\n",
       "      <td>45.662136</td>\n",
       "      <td>35.817961</td>\n",
       "    </tr>\n",
       "    <tr>\n",
       "      <th>std</th>\n",
       "      <td>104.506364</td>\n",
       "      <td>86.279342</td>\n",
       "      <td>63.997004</td>\n",
       "      <td>21.354219</td>\n",
       "      <td>5.973841</td>\n",
       "      <td>77.753954</td>\n",
       "      <td>80.175980</td>\n",
       "      <td>63.169912</td>\n",
       "      <td>16.705742</td>\n",
       "    </tr>\n",
       "    <tr>\n",
       "      <th>min</th>\n",
       "      <td>102.000000</td>\n",
       "      <td>0.000000</td>\n",
       "      <td>0.000000</td>\n",
       "      <td>121.800000</td>\n",
       "      <td>0.000000</td>\n",
       "      <td>801.000000</td>\n",
       "      <td>594.000000</td>\n",
       "      <td>1.000000</td>\n",
       "      <td>2.330000</td>\n",
       "    </tr>\n",
       "    <tr>\n",
       "      <th>25%</th>\n",
       "      <td>192.375000</td>\n",
       "      <td>0.000000</td>\n",
       "      <td>0.000000</td>\n",
       "      <td>164.900000</td>\n",
       "      <td>0.000000</td>\n",
       "      <td>932.000000</td>\n",
       "      <td>730.950000</td>\n",
       "      <td>7.000000</td>\n",
       "      <td>23.710000</td>\n",
       "    </tr>\n",
       "    <tr>\n",
       "      <th>50%</th>\n",
       "      <td>272.900000</td>\n",
       "      <td>22.000000</td>\n",
       "      <td>0.000000</td>\n",
       "      <td>185.000000</td>\n",
       "      <td>6.400000</td>\n",
       "      <td>968.000000</td>\n",
       "      <td>779.500000</td>\n",
       "      <td>28.000000</td>\n",
       "      <td>34.445000</td>\n",
       "    </tr>\n",
       "    <tr>\n",
       "      <th>75%</th>\n",
       "      <td>350.000000</td>\n",
       "      <td>142.950000</td>\n",
       "      <td>118.300000</td>\n",
       "      <td>192.000000</td>\n",
       "      <td>10.200000</td>\n",
       "      <td>1029.400000</td>\n",
       "      <td>824.000000</td>\n",
       "      <td>56.000000</td>\n",
       "      <td>46.135000</td>\n",
       "    </tr>\n",
       "    <tr>\n",
       "      <th>max</th>\n",
       "      <td>540.000000</td>\n",
       "      <td>359.400000</td>\n",
       "      <td>200.100000</td>\n",
       "      <td>247.000000</td>\n",
       "      <td>32.200000</td>\n",
       "      <td>1145.000000</td>\n",
       "      <td>992.600000</td>\n",
       "      <td>365.000000</td>\n",
       "      <td>82.600000</td>\n",
       "    </tr>\n",
       "  </tbody>\n",
       "</table>\n",
       "</div>"
      ],
      "text/plain": [
       "            Cement  Blast Furnace Slag      Fly Ash        Water  \\\n",
       "count  1030.000000         1030.000000  1030.000000  1030.000000   \n",
       "mean    281.167864           73.895825    54.188350   181.567282   \n",
       "std     104.506364           86.279342    63.997004    21.354219   \n",
       "min     102.000000            0.000000     0.000000   121.800000   \n",
       "25%     192.375000            0.000000     0.000000   164.900000   \n",
       "50%     272.900000           22.000000     0.000000   185.000000   \n",
       "75%     350.000000          142.950000   118.300000   192.000000   \n",
       "max     540.000000          359.400000   200.100000   247.000000   \n",
       "\n",
       "       Superplasticizer  Coarse Aggregate  Fine Aggregate          Age  \\\n",
       "count       1030.000000       1030.000000     1030.000000  1030.000000   \n",
       "mean           6.204660        972.918932      773.580485    45.662136   \n",
       "std            5.973841         77.753954       80.175980    63.169912   \n",
       "min            0.000000        801.000000      594.000000     1.000000   \n",
       "25%            0.000000        932.000000      730.950000     7.000000   \n",
       "50%            6.400000        968.000000      779.500000    28.000000   \n",
       "75%           10.200000       1029.400000      824.000000    56.000000   \n",
       "max           32.200000       1145.000000      992.600000   365.000000   \n",
       "\n",
       "          Strength  \n",
       "count  1030.000000  \n",
       "mean     35.817961  \n",
       "std      16.705742  \n",
       "min       2.330000  \n",
       "25%      23.710000  \n",
       "50%      34.445000  \n",
       "75%      46.135000  \n",
       "max      82.600000  "
      ]
     },
     "execution_count": 4,
     "metadata": {},
     "output_type": "execute_result"
    }
   ],
   "source": [
    "concrete_data.describe()"
   ]
  },
  {
   "cell_type": "markdown",
   "id": "a6182ecb",
   "metadata": {},
   "source": [
    "Lets check if the data contains any missing values in the dataset"
   ]
  },
  {
   "cell_type": "code",
   "execution_count": 5,
   "id": "7bc52277",
   "metadata": {
    "scrolled": false
   },
   "outputs": [
    {
     "data": {
      "text/plain": [
       "Cement                0\n",
       "Blast Furnace Slag    0\n",
       "Fly Ash               0\n",
       "Water                 0\n",
       "Superplasticizer      0\n",
       "Coarse Aggregate      0\n",
       "Fine Aggregate        0\n",
       "Age                   0\n",
       "Strength              0\n",
       "dtype: int64"
      ]
     },
     "execution_count": 5,
     "metadata": {},
     "output_type": "execute_result"
    }
   ],
   "source": [
    "concrete_data.isnull().sum()"
   ]
  },
  {
   "cell_type": "markdown",
   "id": "3cdb238c",
   "metadata": {},
   "source": [
    "The data does not contain any Missing values So we are ready to build the model"
   ]
  },
  {
   "cell_type": "markdown",
   "id": "ec4f3098",
   "metadata": {},
   "source": [
    "## Spliting the data into predictor and Target"
   ]
  },
  {
   "cell_type": "markdown",
   "id": "75bd9eaf",
   "metadata": {},
   "source": [
    "The target variable in this problem is the concrete sample strength. Therefore, our predictors will be all the other columns."
   ]
  },
  {
   "cell_type": "code",
   "execution_count": 7,
   "id": "c600df50",
   "metadata": {},
   "outputs": [],
   "source": [
    "concrete_data_columns = concrete_data.columns\n",
    "predictors = concrete_data[concrete_data_columns[concrete_data_columns != 'Strength']] # all columns except Strength\n",
    "target = concrete_data['Strength'] "
   ]
  },
  {
   "cell_type": "markdown",
   "id": "fbfc43d3",
   "metadata": {},
   "source": [
    "Describing the predictors"
   ]
  },
  {
   "cell_type": "code",
   "execution_count": 8,
   "id": "f66d6ea4",
   "metadata": {
    "scrolled": false
   },
   "outputs": [
    {
     "data": {
      "text/html": [
       "<div>\n",
       "<style scoped>\n",
       "    .dataframe tbody tr th:only-of-type {\n",
       "        vertical-align: middle;\n",
       "    }\n",
       "\n",
       "    .dataframe tbody tr th {\n",
       "        vertical-align: top;\n",
       "    }\n",
       "\n",
       "    .dataframe thead th {\n",
       "        text-align: right;\n",
       "    }\n",
       "</style>\n",
       "<table border=\"1\" class=\"dataframe\">\n",
       "  <thead>\n",
       "    <tr style=\"text-align: right;\">\n",
       "      <th></th>\n",
       "      <th>Cement</th>\n",
       "      <th>Blast Furnace Slag</th>\n",
       "      <th>Fly Ash</th>\n",
       "      <th>Water</th>\n",
       "      <th>Superplasticizer</th>\n",
       "      <th>Coarse Aggregate</th>\n",
       "      <th>Fine Aggregate</th>\n",
       "      <th>Age</th>\n",
       "    </tr>\n",
       "  </thead>\n",
       "  <tbody>\n",
       "    <tr>\n",
       "      <th>0</th>\n",
       "      <td>540.0</td>\n",
       "      <td>0.0</td>\n",
       "      <td>0.0</td>\n",
       "      <td>162.0</td>\n",
       "      <td>2.5</td>\n",
       "      <td>1040.0</td>\n",
       "      <td>676.0</td>\n",
       "      <td>28</td>\n",
       "    </tr>\n",
       "    <tr>\n",
       "      <th>1</th>\n",
       "      <td>540.0</td>\n",
       "      <td>0.0</td>\n",
       "      <td>0.0</td>\n",
       "      <td>162.0</td>\n",
       "      <td>2.5</td>\n",
       "      <td>1055.0</td>\n",
       "      <td>676.0</td>\n",
       "      <td>28</td>\n",
       "    </tr>\n",
       "    <tr>\n",
       "      <th>2</th>\n",
       "      <td>332.5</td>\n",
       "      <td>142.5</td>\n",
       "      <td>0.0</td>\n",
       "      <td>228.0</td>\n",
       "      <td>0.0</td>\n",
       "      <td>932.0</td>\n",
       "      <td>594.0</td>\n",
       "      <td>270</td>\n",
       "    </tr>\n",
       "    <tr>\n",
       "      <th>3</th>\n",
       "      <td>332.5</td>\n",
       "      <td>142.5</td>\n",
       "      <td>0.0</td>\n",
       "      <td>228.0</td>\n",
       "      <td>0.0</td>\n",
       "      <td>932.0</td>\n",
       "      <td>594.0</td>\n",
       "      <td>365</td>\n",
       "    </tr>\n",
       "    <tr>\n",
       "      <th>4</th>\n",
       "      <td>198.6</td>\n",
       "      <td>132.4</td>\n",
       "      <td>0.0</td>\n",
       "      <td>192.0</td>\n",
       "      <td>0.0</td>\n",
       "      <td>978.4</td>\n",
       "      <td>825.5</td>\n",
       "      <td>360</td>\n",
       "    </tr>\n",
       "  </tbody>\n",
       "</table>\n",
       "</div>"
      ],
      "text/plain": [
       "   Cement  Blast Furnace Slag  Fly Ash  Water  Superplasticizer  \\\n",
       "0   540.0                 0.0      0.0  162.0               2.5   \n",
       "1   540.0                 0.0      0.0  162.0               2.5   \n",
       "2   332.5               142.5      0.0  228.0               0.0   \n",
       "3   332.5               142.5      0.0  228.0               0.0   \n",
       "4   198.6               132.4      0.0  192.0               0.0   \n",
       "\n",
       "   Coarse Aggregate  Fine Aggregate  Age  \n",
       "0            1040.0           676.0   28  \n",
       "1            1055.0           676.0   28  \n",
       "2             932.0           594.0  270  \n",
       "3             932.0           594.0  365  \n",
       "4             978.4           825.5  360  "
      ]
     },
     "execution_count": 8,
     "metadata": {},
     "output_type": "execute_result"
    }
   ],
   "source": [
    "predictors.head()"
   ]
  },
  {
   "cell_type": "markdown",
   "id": "4799a648",
   "metadata": {},
   "source": [
    "Decribing the target "
   ]
  },
  {
   "cell_type": "code",
   "execution_count": 9,
   "id": "c8caf912",
   "metadata": {},
   "outputs": [
    {
     "data": {
      "text/plain": [
       "0    79.99\n",
       "1    61.89\n",
       "2    40.27\n",
       "3    41.05\n",
       "4    44.30\n",
       "Name: Strength, dtype: float64"
      ]
     },
     "execution_count": 9,
     "metadata": {},
     "output_type": "execute_result"
    }
   ],
   "source": [
    "target.head()"
   ]
  },
  {
   "cell_type": "markdown",
   "id": "0754625e",
   "metadata": {},
   "source": [
    "Knowing the number of predictors"
   ]
  },
  {
   "cell_type": "code",
   "execution_count": 10,
   "id": "8694b788",
   "metadata": {},
   "outputs": [
    {
     "data": {
      "text/plain": [
       "8"
      ]
     },
     "execution_count": 10,
     "metadata": {},
     "output_type": "execute_result"
    }
   ],
   "source": [
    "n_cols = predictors.shape[1] # number of predictors\n",
    "n_cols"
   ]
  },
  {
   "cell_type": "markdown",
   "id": "7889092d",
   "metadata": {},
   "source": [
    "# Import Keras"
   ]
  },
  {
   "cell_type": "code",
   "execution_count": 11,
   "id": "bd1d0a3e",
   "metadata": {},
   "outputs": [],
   "source": [
    "import keras"
   ]
  },
  {
   "cell_type": "markdown",
   "id": "a2e0b778",
   "metadata": {},
   "source": [
    "Lets import the Sequential and Dense Layers to create our model"
   ]
  },
  {
   "cell_type": "code",
   "execution_count": 12,
   "id": "4f11fd22",
   "metadata": {},
   "outputs": [],
   "source": [
    "from keras.models import Sequential\n",
    "from keras.layers import Dense"
   ]
  },
  {
   "cell_type": "markdown",
   "id": "f0bc37e2",
   "metadata": {},
   "source": [
    "## Creating our model and Compiling the model"
   ]
  },
  {
   "cell_type": "markdown",
   "id": "5420dec3",
   "metadata": {},
   "source": [
    "The above function creates a model that has one hidden layer with 10 neurons and a ReLU activation function. It uses the adam optimizer and the mean squared error as the loss function."
   ]
  },
  {
   "cell_type": "code",
   "execution_count": 13,
   "id": "93437df4",
   "metadata": {},
   "outputs": [],
   "source": [
    "def model():\n",
    "    model = Sequential()\n",
    "    model.add(Dense(10, activation='relu', input_shape=(n_cols,)))\n",
    "    model.add(Dense(1))\n",
    "\n",
    "    model.compile(optimizer='adam', loss='mean_squared_error')\n",
    "    return model"
   ]
  },
  {
   "cell_type": "markdown",
   "id": "b608c17b",
   "metadata": {},
   "source": [
    "Now As mentioned we use Scikit-learn inn order to randomly split the data into training and test set"
   ]
  },
  {
   "cell_type": "code",
   "execution_count": 23,
   "id": "085ac6ee",
   "metadata": {},
   "outputs": [],
   "source": [
    "from sklearn.model_selection import train_test_split"
   ]
  },
  {
   "cell_type": "code",
   "execution_count": 28,
   "id": "342776a6",
   "metadata": {},
   "outputs": [],
   "source": [
    "X_train, X_test, y_train, y_test = train_test_split(predictors, target, test_size=0.3, random_state=42)"
   ]
  },
  {
   "cell_type": "markdown",
   "id": "a8b14c16",
   "metadata": {},
   "source": [
    "## Train and Test the Network"
   ]
  },
  {
   "cell_type": "markdown",
   "id": "c5655064",
   "metadata": {},
   "source": [
    "Let's call the function now to create our model."
   ]
  },
  {
   "cell_type": "code",
   "execution_count": 24,
   "id": "eb00e6fc",
   "metadata": {},
   "outputs": [],
   "source": [
    "model = model()"
   ]
  },
  {
   "cell_type": "markdown",
   "id": "29f68c8d",
   "metadata": {},
   "source": [
    "Now we'll train about 50 epochs"
   ]
  },
  {
   "cell_type": "code",
   "execution_count": 29,
   "id": "61372081",
   "metadata": {},
   "outputs": [
    {
     "name": "stdout",
     "output_type": "stream",
     "text": [
      "Epoch 1/50\n",
      "23/23 [==============================] - 8s 18ms/step - loss: 570866.1875\n",
      "Epoch 2/50\n",
      "23/23 [==============================] - 0s 11ms/step - loss: 417603.0312\n",
      "Epoch 3/50\n",
      "23/23 [==============================] - 0s 13ms/step - loss: 304005.0000\n",
      "Epoch 4/50\n",
      "23/23 [==============================] - 0s 9ms/step - loss: 217757.7969\n",
      "Epoch 5/50\n",
      "23/23 [==============================] - 0s 10ms/step - loss: 152712.0625\n",
      "Epoch 6/50\n",
      "23/23 [==============================] - 0s 9ms/step - loss: 103999.0938\n",
      "Epoch 7/50\n",
      "23/23 [==============================] - 0s 9ms/step - loss: 68354.8203\n",
      "Epoch 8/50\n",
      "23/23 [==============================] - 0s 9ms/step - loss: 43119.4961\n",
      "Epoch 9/50\n",
      "23/23 [==============================] - 0s 14ms/step - loss: 26149.9082\n",
      "Epoch 10/50\n",
      "23/23 [==============================] - 0s 9ms/step - loss: 15380.7598\n",
      "Epoch 11/50\n",
      "23/23 [==============================] - 0s 10ms/step - loss: 9058.6260\n",
      "Epoch 12/50\n",
      "23/23 [==============================] - 0s 8ms/step - loss: 5571.6738\n",
      "Epoch 13/50\n",
      "23/23 [==============================] - 0s 8ms/step - loss: 3816.9771\n",
      "Epoch 14/50\n",
      "23/23 [==============================] - 0s 14ms/step - loss: 2966.4087\n",
      "Epoch 15/50\n",
      "23/23 [==============================] - 0s 10ms/step - loss: 2606.4744\n",
      "Epoch 16/50\n",
      "23/23 [==============================] - 0s 15ms/step - loss: 2436.0479\n",
      "Epoch 17/50\n",
      "23/23 [==============================] - 0s 9ms/step - loss: 2357.9788\n",
      "Epoch 18/50\n",
      "23/23 [==============================] - 0s 8ms/step - loss: 2312.0420\n",
      "Epoch 19/50\n",
      "23/23 [==============================] - 0s 8ms/step - loss: 2277.3391\n",
      "Epoch 20/50\n",
      "23/23 [==============================] - 0s 13ms/step - loss: 2245.6924\n",
      "Epoch 21/50\n",
      "23/23 [==============================] - 0s 9ms/step - loss: 2215.3403\n",
      "Epoch 22/50\n",
      "23/23 [==============================] - 0s 10ms/step - loss: 2187.0222\n",
      "Epoch 23/50\n",
      "23/23 [==============================] - 0s 9ms/step - loss: 2158.1958\n",
      "Epoch 24/50\n",
      "23/23 [==============================] - 0s 9ms/step - loss: 2130.2583\n",
      "Epoch 25/50\n",
      "23/23 [==============================] - 0s 18ms/step - loss: 2102.1995\n",
      "Epoch 26/50\n",
      "23/23 [==============================] - 0s 11ms/step - loss: 2074.6824\n",
      "Epoch 27/50\n",
      "23/23 [==============================] - 0s 8ms/step - loss: 2047.1575\n",
      "Epoch 28/50\n",
      "23/23 [==============================] - 0s 8ms/step - loss: 2020.9731\n",
      "Epoch 29/50\n",
      "23/23 [==============================] - 0s 8ms/step - loss: 1994.8782\n",
      "Epoch 30/50\n",
      "23/23 [==============================] - 0s 8ms/step - loss: 1968.9021\n",
      "Epoch 31/50\n",
      "23/23 [==============================] - 0s 9ms/step - loss: 1944.1694\n",
      "Epoch 32/50\n",
      "23/23 [==============================] - 0s 8ms/step - loss: 1918.6064\n",
      "Epoch 33/50\n",
      "23/23 [==============================] - 0s 7ms/step - loss: 1895.2761\n",
      "Epoch 34/50\n",
      "23/23 [==============================] - 0s 7ms/step - loss: 1870.7170\n",
      "Epoch 35/50\n",
      "23/23 [==============================] - 0s 13ms/step - loss: 1847.4126\n",
      "Epoch 36/50\n",
      "23/23 [==============================] - 0s 9ms/step - loss: 1824.9521\n",
      "Epoch 37/50\n",
      "23/23 [==============================] - 0s 9ms/step - loss: 1802.8911\n",
      "Epoch 38/50\n",
      "23/23 [==============================] - 0s 8ms/step - loss: 1781.5055\n",
      "Epoch 39/50\n",
      "23/23 [==============================] - 0s 8ms/step - loss: 1758.4426\n",
      "Epoch 40/50\n",
      "23/23 [==============================] - 0s 13ms/step - loss: 1736.9218\n",
      "Epoch 41/50\n",
      "23/23 [==============================] - 0s 8ms/step - loss: 1715.1874\n",
      "Epoch 42/50\n",
      "23/23 [==============================] - 0s 10ms/step - loss: 1694.3130\n",
      "Epoch 43/50\n",
      "23/23 [==============================] - 0s 9ms/step - loss: 1673.1262\n",
      "Epoch 44/50\n",
      "23/23 [==============================] - 0s 9ms/step - loss: 1653.5985\n",
      "Epoch 45/50\n",
      "23/23 [==============================] - 0s 8ms/step - loss: 1631.7162\n",
      "Epoch 46/50\n",
      "23/23 [==============================] - 0s 8ms/step - loss: 1613.5095\n",
      "Epoch 47/50\n",
      "23/23 [==============================] - 0s 10ms/step - loss: 1592.0103\n",
      "Epoch 48/50\n",
      "23/23 [==============================] - 0s 7ms/step - loss: 1573.0737\n",
      "Epoch 49/50\n",
      "23/23 [==============================] - 0s 8ms/step - loss: 1553.7410\n",
      "Epoch 50/50\n",
      "23/23 [==============================] - 0s 8ms/step - loss: 1534.4194\n"
     ]
    },
    {
     "data": {
      "text/plain": [
       "<keras.callbacks.History at 0x250c9066a40>"
      ]
     },
     "execution_count": 29,
     "metadata": {},
     "output_type": "execute_result"
    }
   ],
   "source": [
    "epochs=50\n",
    "model.fit(X_train,y_train,epochs=epochs,verbose=1)"
   ]
  },
  {
   "cell_type": "markdown",
   "id": "d573cf68",
   "metadata": {},
   "source": [
    "Next we need to evaluate the model on the test data."
   ]
  },
  {
   "cell_type": "code",
   "execution_count": 30,
   "id": "944e0ff7",
   "metadata": {},
   "outputs": [
    {
     "name": "stdout",
     "output_type": "stream",
     "text": [
      "10/10 [==============================] - 1s 8ms/step - loss: 1394.7872\n",
      "10/10 [==============================] - 0s 5ms/step\n"
     ]
    },
    {
     "data": {
      "text/plain": [
       "1394.7872314453125"
      ]
     },
     "execution_count": 30,
     "metadata": {},
     "output_type": "execute_result"
    }
   ],
   "source": [
    "loss_val = model.evaluate(X_test, y_test)\n",
    "y_pred = model.predict(X_test)\n",
    "loss_val"
   ]
  },
  {
   "cell_type": "markdown",
   "id": "85f2ecc9",
   "metadata": {},
   "source": [
    "Now we need to compute the mean squared error between the predicted concrete strength and the actual concrete strength."
   ]
  },
  {
   "cell_type": "code",
   "execution_count": 31,
   "id": "a202d7a4",
   "metadata": {},
   "outputs": [],
   "source": [
    "from sklearn.metrics import mean_squared_error"
   ]
  },
  {
   "cell_type": "code",
   "execution_count": 32,
   "id": "933450ce",
   "metadata": {},
   "outputs": [
    {
     "name": "stdout",
     "output_type": "stream",
     "text": [
      "1394.7870055476506 0.0\n"
     ]
    }
   ],
   "source": [
    "mean_square_error = mean_squared_error(y_test, y_pred)\n",
    "mean = np.mean(mean_square_error)\n",
    "standard_deviation = np.std(mean_square_error)\n",
    "print(mean, standard_deviation)"
   ]
  },
  {
   "cell_type": "markdown",
   "id": "12506511",
   "metadata": {},
   "source": [
    "Create a list of 50 mean squared errors and report mean and the standard deviation of the mean squared errors."
   ]
  },
  {
   "cell_type": "code",
   "execution_count": 33,
   "id": "1902b028",
   "metadata": {},
   "outputs": [
    {
     "name": "stdout",
     "output_type": "stream",
     "text": [
      "MSE 1: 882.5225830078125\n",
      "10/10 [==============================] - 0s 5ms/step\n",
      "MSE 2: 512.2734375\n",
      "10/10 [==============================] - 0s 5ms/step\n",
      "MSE 3: 267.1809387207031\n",
      "10/10 [==============================] - 0s 6ms/step\n",
      "MSE 4: 186.9139404296875\n",
      "10/10 [==============================] - 0s 5ms/step\n",
      "MSE 5: 146.8606414794922\n",
      "10/10 [==============================] - 0s 9ms/step\n",
      "MSE 6: 110.93917846679688\n",
      "10/10 [==============================] - 0s 4ms/step\n",
      "MSE 7: 144.0098876953125\n",
      "10/10 [==============================] - 0s 5ms/step\n",
      "MSE 8: 104.38367462158203\n",
      "10/10 [==============================] - 0s 5ms/step\n",
      "MSE 9: 97.76538848876953\n",
      "10/10 [==============================] - 0s 4ms/step\n",
      "MSE 10: 80.8412857055664\n",
      "10/10 [==============================] - 0s 7ms/step\n",
      "MSE 11: 69.03504180908203\n",
      "10/10 [==============================] - 0s 5ms/step\n",
      "MSE 12: 64.33028411865234\n",
      "10/10 [==============================] - 0s 5ms/step\n",
      "MSE 13: 71.178466796875\n",
      "10/10 [==============================] - 0s 5ms/step\n",
      "MSE 14: 75.49060821533203\n",
      "10/10 [==============================] - 0s 6ms/step\n",
      "MSE 15: 63.36311721801758\n",
      "10/10 [==============================] - 0s 5ms/step\n",
      "MSE 16: 56.834957122802734\n",
      "10/10 [==============================] - 0s 6ms/step\n",
      "MSE 17: 55.45856857299805\n",
      "10/10 [==============================] - 0s 4ms/step\n",
      "MSE 18: 51.20492935180664\n",
      "10/10 [==============================] - 0s 5ms/step\n",
      "MSE 19: 45.61457824707031\n",
      "10/10 [==============================] - 0s 5ms/step\n",
      "MSE 20: 50.70008850097656\n",
      "10/10 [==============================] - 0s 4ms/step\n",
      "MSE 21: 48.31735610961914\n",
      "10/10 [==============================] - 0s 5ms/step\n",
      "MSE 22: 46.59312057495117\n",
      "10/10 [==============================] - 0s 6ms/step\n",
      "MSE 23: 46.45854568481445\n",
      "10/10 [==============================] - 0s 6ms/step\n",
      "MSE 24: 46.51271438598633\n",
      "10/10 [==============================] - 0s 5ms/step\n",
      "MSE 25: 52.327598571777344\n",
      "10/10 [==============================] - 0s 5ms/step\n",
      "MSE 26: 48.472713470458984\n",
      "10/10 [==============================] - 0s 6ms/step\n",
      "MSE 27: 50.543277740478516\n",
      "10/10 [==============================] - 0s 5ms/step\n",
      "MSE 28: 45.72649002075195\n",
      "10/10 [==============================] - 0s 7ms/step\n",
      "MSE 29: 52.401206970214844\n",
      "10/10 [==============================] - 0s 7ms/step\n",
      "MSE 30: 61.38337326049805\n",
      "10/10 [==============================] - 0s 4ms/step\n",
      "MSE 31: 52.694793701171875\n",
      "10/10 [==============================] - 0s 5ms/step\n",
      "MSE 32: 43.51734924316406\n",
      "10/10 [==============================] - 0s 5ms/step\n",
      "MSE 33: 49.68528366088867\n",
      "10/10 [==============================] - 0s 6ms/step\n",
      "MSE 34: 53.2508659362793\n",
      "10/10 [==============================] - 0s 4ms/step\n",
      "MSE 35: 46.47670364379883\n",
      "10/10 [==============================] - 0s 4ms/step\n",
      "MSE 36: 52.63232421875\n",
      "10/10 [==============================] - 0s 4ms/step\n",
      "MSE 37: 52.56350326538086\n",
      "10/10 [==============================] - 0s 3ms/step\n",
      "MSE 38: 52.547271728515625\n",
      "10/10 [==============================] - 0s 4ms/step\n",
      "MSE 39: 49.50328826904297\n",
      "10/10 [==============================] - 0s 8ms/step\n",
      "MSE 40: 44.99844741821289\n",
      "10/10 [==============================] - 0s 4ms/step\n",
      "MSE 41: 55.38970947265625\n",
      "10/10 [==============================] - 0s 4ms/step\n",
      "MSE 42: 46.756385803222656\n",
      "10/10 [==============================] - 0s 4ms/step\n",
      "MSE 43: 47.70583724975586\n",
      "10/10 [==============================] - 0s 4ms/step\n",
      "MSE 44: 55.27341079711914\n",
      "10/10 [==============================] - 0s 5ms/step\n",
      "MSE 45: 55.56725311279297\n",
      "10/10 [==============================] - 0s 5ms/step\n",
      "MSE 46: 54.391517639160156\n",
      "10/10 [==============================] - 0s 6ms/step\n",
      "MSE 47: 52.61711120605469\n",
      "10/10 [==============================] - 0s 5ms/step\n",
      "MSE 48: 51.47941207885742\n",
      "10/10 [==============================] - 0s 5ms/step\n",
      "MSE 49: 51.62294387817383\n",
      "10/10 [==============================] - 0s 5ms/step\n",
      "MSE 50: 57.023406982421875\n",
      "10/10 [==============================] - 0s 7ms/step\n",
      "\n",
      "\n",
      "Below is the mean and standard deviation of 50 mean squared errors without normalized data. Total number of epochs for each training is: 50\n",
      "\n",
      "Mean: 93.22669613368369\n",
      "Standard Deviation: 134.89585213692948\n"
     ]
    }
   ],
   "source": [
    "total_mean_squared_errors = 50\n",
    "epochs = 50\n",
    "mean_squared_errors = []\n",
    "for i in range(0, total_mean_squared_errors):\n",
    "    X_train, X_test, y_train, y_test = train_test_split(predictors, target, test_size=0.3, random_state=i)\n",
    "    model.fit(X_train, y_train, epochs=epochs, verbose=0)\n",
    "    MSE = model.evaluate(X_test, y_test, verbose=0)\n",
    "    print(\"MSE \"+str(i+1)+\": \"+str(MSE))\n",
    "    y_pred = model.predict(X_test)\n",
    "    mean_square_error = mean_squared_error(y_test, y_pred)\n",
    "    mean_squared_errors.append(mean_square_error)\n",
    "\n",
    "mean_squared_errors = np.array(mean_squared_errors)\n",
    "mean = np.mean(mean_squared_errors)\n",
    "standard_deviation = np.std(mean_squared_errors)\n",
    "\n",
    "print('\\n')\n",
    "print(\"Below is the mean and standard deviation of \" +str(total_mean_squared_errors) + \" mean squared errors without normalized data. Total number of epochs for each training is: \" +str(epochs) + \"\\n\")\n",
    "print(\"Mean: \"+str(mean))\n",
    "print(\"Standard Deviation: \"+str(standard_deviation))"
   ]
  }
 ],
 "metadata": {
  "kernelspec": {
   "display_name": "Python 3 (ipykernel)",
   "language": "python",
   "name": "python3"
  },
  "language_info": {
   "codemirror_mode": {
    "name": "ipython",
    "version": 3
   },
   "file_extension": ".py",
   "mimetype": "text/x-python",
   "name": "python",
   "nbconvert_exporter": "python",
   "pygments_lexer": "ipython3",
   "version": "3.10.4"
  }
 },
 "nbformat": 4,
 "nbformat_minor": 5
}
